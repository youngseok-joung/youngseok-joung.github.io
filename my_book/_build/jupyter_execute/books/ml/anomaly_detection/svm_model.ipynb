{
 "cells": [
  {
   "cell_type": "markdown",
   "id": "692660fb",
   "metadata": {},
   "source": [
    "# Support-vector machine\n",
    "\n",
    "## I want to classify something well!\n",
    "> I can classify real objects in real world by my eyes and hands.\n",
    "> How about entangible things like numbers, positions, attributes, types\n",
    "\n",
    "### Which position is the best in a specific Dimension?\n",
    "\n",
    "1. How could we devide two points in a 1D by a point?\n",
    "Imagine that if there are different two points in a line.\n",
    "Which position of a new point is proper to divide the two points below?\n",
    "\n",
    "![1d.PNG](./assets/images/1d.PNG)\n",
    "\n",
    "2. How could we devide two points in a 2D by a line?\n",
    "\n",
    "![2d.PNG](./assets/images/2d.PNG)\n",
    "\n",
    "\n",
    "3. How could we devide two points in a 3D by a plane?\n",
    "\n",
    "![3d.PNG](./assets/images/3d.PNG)\n",
    "\n",
    "### Where is the best position of the shape? \n",
    "\n",
    "1. The place Where it is the middle of the two points.\n",
    "\n",
    "\n",
    "## Support vector classification\n",
    "More formally, a support-vector machine **constructs a hyperplane** or set of hyperplanes in a high- or infinite-dimensional space, which can be used for classification, regression, or other tasks like outliers detection.[3] \n",
    "\n",
    "> Intuitively, a good separation is achieved by *he hyperplane that has the largest distance to the nearest training-data point of any class (so-called functional margin), since in general the larger the margin, the lower the generalization error of the classifier.[4]\n",
    "\n",
    "The objective of the support vector machine algorithm is to find a hyperplane(N-1 D Subspace) in an N-dimensional space(N — the number of features) that distinctly classifies the data points. (https://en.wikipedia.org/wiki/Support-vector_machine)\n",
    "\n",
    "### Hyperplane \n",
    "In geometry, a hyperplane is a subspace whose dimension is **one less** than that of its ambient space. If a space is 3-dimensional then its hyperplanes are the 2-dimensional planes, while if the space is 2-dimensional, its hyperplanes are the 1-dimensional lines. (https://en.wikipedia.org/wiki/Hyperplane)\n",
    "\n",
    "### Maximum-margin \n",
    "Maximum-margin hyperplane and margins for an SVM trained with samples from two classes. Samples on the margin are called the support vectors. (https://en.wikipedia.org/wiki/Support-vector_machine)\n",
    "\n",
    "![SVM_margin.PNG](./assets/images/SVM_margin.PNG)\n",
    "\n",
    "\n",
    "### Problem: Not linearly separable in that space (Curved like below)\n",
    "1. Kernal function is to keep the computational load reasonable, the mappings used by SVM schemes are designed to ensure that dot products of pairs of input data vectors may be computed easily in terms of the variables in the original space\n",
    "\n",
    "![kernal_function.PNG](./assets/images/1920px-Kernel_Machine.svg.PNG)\n",
    "\n",
    "2.  a set of vectors is an orthogonal (and thus minimal) set of vectors that defines a hyperplane. The vectors defining the hyperplanes can be chosen to be linear combinations with parameters {\\displaystyle \\alpha _{i}}\\alpha _{i} of images of feature vectors {\\displaystyle x_{i}}x_{i} that occur in the data bas\n",
    "\n",
    "### Hinge Loss function\n",
    "To extend SVM to cases in which the data are not linearly separable, the hinge loss function is helpful\n",
    "\n",
    "![hinge_loss.PNG](./assets/images/hinge_loss.PNG)\n",
    "\n",
    "The goal of the optimization then is to minimize\n",
    "\n",
    "![optimization_function.PNG](./assets/images/optimization_function.PNG)\n"
   ]
  },
  {
   "cell_type": "code",
   "execution_count": 1,
   "id": "6561f221",
   "metadata": {},
   "outputs": [],
   "source": [
    "\"\"\"svm_model.py: This model is the implementation of Classification of KDD datasets.\n",
    "\"\"\"\n",
    "\n",
    "__author__ = 'Youngseok Joung'\n",
    "__copyright__ = \"Copyright 2021, The Cogent Project\"\n",
    "__credits__ = [\"Youngseok Joung\"]\n",
    "__license__ = \"GPL\"\n",
    "__version__ = \"1.0.1\"\n",
    "__maintainer__ = \"Youngseok Joung\"\n",
    "__email__ = \"none\"\n",
    "__status__ = \"Production\"\n",
    "\n",
    "import pandas as pd\n",
    "import numpy as np\n",
    "from sklearn.model_selection import train_test_split as splitter\n",
    "from sklearn.svm import SVC\n",
    "import cProfile\n",
    "import pstats\n",
    "import os\n",
    "import sys\n",
    "from sklearn.metrics import classification_report, confusion_matrix, roc_curve, roc_auc_score\n",
    "from sklearn.preprocessing import LabelEncoder\n",
    "from matplotlib import pyplot\n",
    "import pickle\n",
    "from joblib import dump, load"
   ]
  },
  {
   "cell_type": "code",
   "execution_count": 2,
   "id": "262acc73",
   "metadata": {},
   "outputs": [],
   "source": [
    "def labelEncoding(model_name, data):\n",
    "    \"\"\"labelEncoding function replace the categorical valeu with a numberic value from 0 and the number of classes -1.\n",
    "    Also, the label encoder object is saved as a file using Pickle package to be recalled after classification.\n",
    "\n",
    "    :param model_name: model name used in this project (e.g. \"SVM\")\n",
    "    :param data: categorical datasets\n",
    "    :return: label encoded data, lable encoder object\n",
    "    \"\"\" \n",
    "    \n",
    "    for column in data.columns:\n",
    "        # If the data type of the cell is 'object'(Categorical), it will be transformed as a numerical \n",
    "        if data[column].dtype == type(object):\n",
    "            le_file_path = 'result/' + model_name + '/' + model_name + '_' + column + '_encoder.pkl'\n",
    "            if os.path.exists(le_file_path):\n",
    "                pkl_file = open(le_file_path, 'rb')\n",
    "                le = pickle.load(pkl_file) \n",
    "                pkl_file.close()\n",
    "                data[column] = le.transform(data[column])            \n",
    "            else:\n",
    "                le = LabelEncoder()\n",
    "                data[column] = le.fit_transform(data[column])\n",
    "                #exporting the departure encoder\n",
    "                output = open(le_file_path, 'wb')\n",
    "                pickle.dump(le, output)\n",
    "                output.close()\n",
    "            if column == 'result':\n",
    "                le_name_mapping = dict(zip(le.classes_, le.transform(le.classes_)))\n",
    "                print(le_name_mapping)\n",
    "    return data, le"
   ]
  },
  {
   "cell_type": "code",
   "execution_count": 3,
   "id": "b6518391",
   "metadata": {},
   "outputs": [],
   "source": [
    "def Preprocessing(model_name, data):\n",
    "    \"\"\"Preprocessing function first separate datasets as input features(x) and class type 'result'(y) respectively.\n",
    "    And split dataset into train and test using splitter.\n",
    "    \n",
    "    :param model_name: model name used in this project (e.g. \"SVM\")\n",
    "    :param data: categorical datasets\n",
    "    :return: x_train, x_test, y_train, y_test\n",
    "    \"\"\"\n",
    "    y = data.result\n",
    "    x = data.drop('result', axis=1)\n",
    "    \n",
    "    # Preprocessing: Split 7:3 Train: Test\n",
    "    x_train, x_test, y_train, y_test = splitter(x, y, test_size=0.3)\n",
    "    \n",
    "    return x_train, x_test, y_train, y_test"
   ]
  },
  {
   "cell_type": "code",
   "execution_count": 4,
   "id": "a89da868",
   "metadata": {},
   "outputs": [],
   "source": [
    "def train_and_test(model_name, x_train, x_test, y_train, y_test):\n",
    "    \"\"\"train_and_test function train the proposed model with the train dataset\n",
    "    And test it with test dataset\n",
    "    Additionally it will finalize the model to be used in the product. \n",
    "    \n",
    "    :param model_name: model name used in this project (e.g. \"SVM\")\n",
    "    :param x_train: train input features\n",
    "    :param y_train: train label\n",
    "    :param x_test: test input features\n",
    "    :param y_test: test label    \n",
    "    :return: model, y_pred is prediced lables from the model\n",
    "    \"\"\"\n",
    "\n",
    "    # Profile: Start \n",
    "    profile = cProfile.Profile()\n",
    "    profile.enable()\n",
    "    \n",
    "    # train and test\n",
    "    model = SVC()\n",
    "    model.fit(x_train, y_train)\n",
    "    y_pred = model.predict(x_test)\n",
    "\n",
    "    # Profile: End \n",
    "    profile.disable()\n",
    "    profile.dump_stats('output.prof')\n",
    "    stream = open('result/' + model_name + '/' + model_name + '_profiling.txt', 'w')\n",
    "    stats = pstats.Stats('output.prof', stream=stream)\n",
    "    stats.sort_stats('cumtime')\n",
    "    stats.print_stats()\n",
    "    os.remove('output.prof')\n",
    "    \n",
    "    # Freezing model for production \n",
    "    dump(model, 'result/' + model_name + '/' + model_name + '_model.joblib') \n",
    "    \n",
    "    return model, y_pred"
   ]
  },
  {
   "cell_type": "code",
   "execution_count": 5,
   "id": "0ac1cb21",
   "metadata": {},
   "outputs": [],
   "source": [
    "def report(model_name, y_test, y_pred, le=None):\n",
    "    \"\"\"report function evaluates the quality of the output of a classifier on this data set.\n",
    "    We can get the value of Precision, Recall,, F1-Score, Support, accuracy by Lables \n",
    "    And it can get Multiclass AUC score multiclass using roc_auc_score_multiclass function\n",
    "    Additionally, it draws Bar graph about comparison between labels in each metrics (precision, recall, f1-score, AUC)\n",
    "    All are saved as a file\n",
    "    \n",
    "    :param model_name: model name used in this project (e.g. \"SVM\")\n",
    "    :param y_test: test label    \n",
    "    :param y_pred: test label    \n",
    "    :param le: None or Label encoder    \n",
    "    :return: _confusion_matrix, _classification_report, _auc_dict, _classification_report_dict\n",
    "    \"\"\"\n",
    "    \n",
    "    # Estimation: Confusion Matrix & classification-report \n",
    "    _confusion_matrix = confusion_matrix(y_test, y_pred)\n",
    "    _classification_report = classification_report(y_test, y_pred, target_names=le.classes_, output_dict=False)\n",
    "    _classification_report_dict = classification_report(y_test, y_pred, target_names=le.classes_, output_dict=True)\n",
    "\n",
    "    # For Multiclass AUC\n",
    "    _auc_dict = roc_auc_score_multiclass(y_test, y_pred)\n",
    "    _auc_dict = dict((le.classes_[key], value) for (key, value) in _auc_dict.items())\n",
    "#     _auc = roc_auc_score(y_test, y_pred, multi_class='ovr')\n",
    "#     _fpr, _tpr, _thresholds = roc_curve(y_test, y_pred)\n",
    "\n",
    "    with open('result/' + model_name + '/' + model_name + '_output.txt', 'w') as f:\n",
    "        f.write(\"\\n---Confusion Matrix---\\n\")\n",
    "        f.write(np.array2string(_confusion_matrix, separator=', '))\n",
    "        f.write(\"\\n---Classification Report---\\n\")\n",
    "        f.write(_classification_report)\n",
    "        f.write(\"\\n---ROC AUC Score---\\n\")\n",
    "        f.write(str(_auc_dict))\n",
    "#         f.write(_auc)\n",
    "    \n",
    "    print('\\n-----Confusion Matrix-----\\n')\n",
    "    print(_confusion_matrix)\n",
    "    print('\\n-----Classification Report-----\\n')\n",
    "    print(_classification_report)\n",
    "    print('\\n-----AUC Dictionary-----\\n')\n",
    "    print(str(_auc_dict))\n",
    "    \n",
    "    metrix = ['precision', 'recall', 'f1-score']\n",
    "#     metrix = ['precision', 'recall', 'f1-score', 'support']\n",
    "    xKeys = le.classes_\n",
    "    for met in metrix:\n",
    "        xValues = []\n",
    "        for target_name in le.classes_:\n",
    "            xValues += [_classification_report_dict[target_name][met]]\n",
    "\n",
    "        pyplot.title(met)\n",
    "        pyplot.bar(range(len(xValues)), list(xValues), align='center')\n",
    "        pyplot.xticks(range(len(xKeys)), list(xKeys))\n",
    "        pyplot.show()\n",
    "    \n",
    "    pyplot.title('AUC')\n",
    "    pyplot.bar(range(len(_auc_dict)), list(_auc_dict.values()), align='center')\n",
    "    pyplot.xticks(range(len(_auc_dict)), list(_auc_dict.keys()))\n",
    "    pyplot.show()\n",
    "    \n",
    "#     # plot the roc curve for the model\n",
    "#     # pyplot.plot(ns_fpr, ns_tpr, linestyle='--', label='No Skill')\n",
    "#     pyplot.plot(_fpr, _tpr, marker='.', label=model_name)\n",
    "#     # axis labels\n",
    "#     pyplot.xlabel('False Positive Rate')\n",
    "#     pyplot.ylabel('True Positive Rate')\n",
    "#     # show the legend\n",
    "#     pyplot.legend()\n",
    "#     # show the plot\n",
    "#     pyplot.show()\n",
    "    \n",
    "    return _confusion_matrix, _classification_report, _auc_dict, _classification_report_dict\n",
    "    "
   ]
  },
  {
   "cell_type": "code",
   "execution_count": 6,
   "id": "adfe2dff",
   "metadata": {},
   "outputs": [],
   "source": [
    "def roc_auc_score_multiclass(y_test, y_pred, average = \"macro\"):\n",
    "    \"\"\"roc_auc_score_multiclass function evaluate the multiclass output as a ROC AUC score.\n",
    "    \n",
    "    :param y_test: test label    \n",
    "    :param y_pred: test label    \n",
    "    :param average: \"macro\" or Label encoder    \n",
    "    :return: _confusion_matrix, _classification_report, _auc_dict, _classification_report_dict\n",
    "    \"\"\"\n",
    "    \n",
    "    #creating a set of all the unique classes using the actual class list\n",
    "    unique_class = set(y_test)\n",
    "    roc_auc_dict = {}\n",
    "    for per_class in unique_class:\n",
    "        #creating a list of all the classes except the current class \n",
    "        other_class = [x for x in unique_class if x != per_class]\n",
    "\n",
    "        #marking the current class as 1 and all other classes as 0\n",
    "        new_y_test = [0 if x in other_class else 1 for x in y_test]\n",
    "        new_y_pred = [0 if x in other_class else 1 for x in y_pred]\n",
    "\n",
    "        #using the sklearn metrics method to calculate the roc_auc_score\n",
    "        roc_auc = roc_auc_score(new_y_test, new_y_pred, average = average)\n",
    "        roc_auc_dict[per_class] = roc_auc\n",
    "\n",
    "    return roc_auc_dict"
   ]
  },
  {
   "cell_type": "code",
   "execution_count": 7,
   "id": "18e3cb8b",
   "metadata": {},
   "outputs": [],
   "source": [
    "def production(model_name, data):\n",
    "    \"\"\"production function receive real network traffic data from the product \n",
    "    And classify it with saved label encoder and the model\n",
    "    \n",
    "    :param model_name: model name    \n",
    "    :param data: real dataset     \n",
    "    :return: pred_label, real_label\n",
    "    \"\"\"\n",
    "    real_data, le = labelEncoding(model_name, data)\n",
    "    real_y = real_data.result\n",
    "    real_x = real_data.drop('result', axis=1)\n",
    "#     print(real_y)\n",
    "#     print(real_x)\n",
    "\n",
    "    clf = load('result/' + model_name + '/' + model_name + '_model.joblib')\n",
    "    yy_pred = clf.predict(real_x)\n",
    "    pred_label = le.inverse_transform(yy_pred)\n",
    "    real_label = le.inverse_transform(real_y)\n",
    "\n",
    "    return pred_label, real_label"
   ]
  },
  {
   "cell_type": "markdown",
   "id": "4afae2dd",
   "metadata": {},
   "source": [
    "# Run main program"
   ]
  },
  {
   "cell_type": "code",
   "execution_count": 8,
   "id": "fe5090ba",
   "metadata": {
    "scrolled": true
   },
   "outputs": [],
   "source": [
    "if __name__ == \"__main__\":\n",
    "    \n",
    "    \"\"\"Receive Input datasets\"\"\"\n",
    "    model_name = 'svm_kdd'\n",
    "    # model_name = 'svm_nsl_kdd'\n",
    "    dataset_name = 'kdd_prediction'\n",
    "    # dataset_name = 'kdd_prediction_NSL'\n",
    "\n",
    "    data = pd.read_csv('./dataset/' + dataset_name + '.csv', delimiter=',', dtype={'protocol_type': str, 'service': str, 'flag': str, 'result': str})\n",
    "#     print(data.head)"
   ]
  },
  {
   "cell_type": "code",
   "execution_count": 9,
   "id": "c8355e1a",
   "metadata": {},
   "outputs": [
    {
     "name": "stdout",
     "output_type": "stream",
     "text": [
      "{'dos': 0, 'normal': 1, 'probe': 2, 'r2l': 3, 'u2r': 4}\n"
     ]
    }
   ],
   "source": [
    "    \"\"\"Label Encoding for categorical datasets\"\"\"\n",
    "    data, le = labelEncoding(model_name, data)"
   ]
  },
  {
   "cell_type": "code",
   "execution_count": 10,
   "id": "6ca9bbe7",
   "metadata": {},
   "outputs": [],
   "source": [
    "    \"\"\"Pre-processing\"\"\"\n",
    "    x_train, x_test, y_train, y_test = Preprocessing(model_name, data)"
   ]
  },
  {
   "cell_type": "code",
   "execution_count": 11,
   "id": "1344853e",
   "metadata": {
    "scrolled": true
   },
   "outputs": [],
   "source": [
    "    \"\"\"Train and Test\"\"\"\n",
    "    model, y_pred = train_and_test(model_name, x_train, x_test, y_train, y_test)"
   ]
  },
  {
   "cell_type": "code",
   "execution_count": 12,
   "id": "75ef8619",
   "metadata": {},
   "outputs": [
    {
     "name": "stdout",
     "output_type": "stream",
     "text": [
      "\n",
      "-----Confusion Matrix-----\n",
      "\n",
      "[[1464   11    0    0    0]\n",
      " [   4 2260    0    3    0]\n",
      " [ 101   36   21    0    0]\n",
      " [   2   17    0  103    1]\n",
      " [   0    9    0    1    3]]\n",
      "\n",
      "-----Classification Report-----\n",
      "\n",
      "              precision    recall  f1-score   support\n",
      "\n",
      "         dos       0.93      0.99      0.96      1475\n",
      "      normal       0.97      1.00      0.98      2267\n",
      "       probe       1.00      0.13      0.23       158\n",
      "         r2l       0.96      0.84      0.90       123\n",
      "         u2r       0.75      0.23      0.35        13\n",
      "\n",
      "    accuracy                           0.95      4036\n",
      "   macro avg       0.92      0.64      0.69      4036\n",
      "weighted avg       0.96      0.95      0.94      4036\n",
      "\n",
      "\n",
      "-----AUC Dictionary-----\n",
      "\n",
      "{'dos': 0.9753809092052231, 'normal': 0.9778229833357562, 'probe': 0.5664556962025317, 'r2l': 0.9181880702016834, 'u2r': 0.6152603300254308}\n"
     ]
    },
    {
     "data": {
      "image/png": "[encoded data removed]",
      "text/plain": [
       "<Figure size 432x288 with 1 Axes>"
      ]
     },
     "metadata": {
      "filenames": {
       "image/png": "C:\\Users\\RyanJoung\\OneDrive - Datapod Pty Ltd\\Desktop\\uc\\mybook\\my_book\\my_book\\_build\\jupyter_execute\\books\\ml\\anomaly_detection\\svm_model_13_1.png"
      },
      "needs_background": "light"
     },
     "output_type": "display_data"
    },
    {
     "data": {
      "image/png": "[encoded data removed]",
      "text/plain": [
       "<Figure size 432x288 with 1 Axes>"
      ]
     },
     "metadata": {
      "filenames": {
       "image/png": "C:\\Users\\RyanJoung\\OneDrive - Datapod Pty Ltd\\Desktop\\uc\\mybook\\my_book\\my_book\\_build\\jupyter_execute\\books\\ml\\anomaly_detection\\svm_model_13_2.png"
      },
      "needs_background": "light"
     },
     "output_type": "display_data"
    },
    {
     "data": {
      "image/png": "[encoded data removed]",
      "text/plain": [
       "<Figure size 432x288 with 1 Axes>"
      ]
     },
     "metadata": {
      "filenames": {
       "image/png": "C:\\Users\\RyanJoung\\OneDrive - Datapod Pty Ltd\\Desktop\\uc\\mybook\\my_book\\my_book\\_build\\jupyter_execute\\books\\ml\\anomaly_detection\\svm_model_13_3.png"
      },
      "needs_background": "light"
     },
     "output_type": "display_data"
    },
    {
     "data": {
      "image/png": "[encoded data removed]",
      "text/plain": [
       "<Figure size 432x288 with 1 Axes>"
      ]
     },
     "metadata": {
      "filenames": {
       "image/png": "C:\\Users\\RyanJoung\\OneDrive - Datapod Pty Ltd\\Desktop\\uc\\mybook\\my_book\\my_book\\_build\\jupyter_execute\\books\\ml\\anomaly_detection\\svm_model_13_4.png"
      },
      "needs_background": "light"
     },
     "output_type": "display_data"
    }
   ],
   "source": [
    "    \"\"\"Report\"\"\"\n",
    "    cm, cr, auc, _ = report(model_name, y_test, y_pred, le)"
   ]
  },
  {
   "cell_type": "markdown",
   "id": "6e4258c6",
   "metadata": {},
   "source": [
    "# Test in Product "
   ]
  },
  {
   "cell_type": "code",
   "execution_count": 13,
   "id": "27933acf",
   "metadata": {
    "scrolled": false
   },
   "outputs": [
    {
     "name": "stdout",
     "output_type": "stream",
     "text": [
      "{'dos': 0, 'normal': 1, 'probe': 2, 'r2l': 3, 'u2r': 4}\n",
      "['normal'] ['normal']\n"
     ]
    }
   ],
   "source": [
    "    \"\"\"Production\"\"\"\n",
    "\n",
    "    real_data = pd.read_csv('./dataset/kdd_prediction.csv', delimiter=',', dtype={'protocol_type': str, 'service': str, 'flag': str, 'result': str})\n",
    "    real_data = real_data.head(1)\n",
    "\n",
    "    pred_label, real_label = production(model_name, real_data)\n",
    "    print(pred_label, real_label)"
   ]
  },
  {
   "cell_type": "code",
   "execution_count": null,
   "id": "8272bff0",
   "metadata": {},
   "outputs": [],
   "source": []
  }
 ],
 "metadata": {
  "kernelspec": {
   "display_name": "Python 3 (ipykernel)",
   "language": "python",
   "name": "python3"
  },
  "language_info": {
   "codemirror_mode": {
    "name": "ipython",
    "version": 3
   },
   "file_extension": ".py",
   "mimetype": "text/x-python",
   "name": "python",
   "nbconvert_exporter": "python",
   "pygments_lexer": "ipython3",
   "version": "3.8.11"
  }
 },
 "nbformat": 4,
 "nbformat_minor": 5
}