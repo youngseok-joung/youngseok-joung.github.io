{
 "cells": [
  {
   "cell_type": "markdown",
   "metadata": {},
   "source": [
    "# Neural Network Model\n"
   ]
  },
  {
   "cell_type": "code",
   "execution_count": 1,
   "metadata": {},
   "outputs": [
    {
     "ename": "ModuleNotFoundError",
     "evalue": "No module named 'seaborn'",
     "output_type": "error",
     "traceback": [
      "\u001b[1;31m---------------------------------------------------------------------------\u001b[0m",
      "\u001b[1;31mModuleNotFoundError\u001b[0m                       Traceback (most recent call last)",
      "\u001b[1;32mC:\\Users\\RYANJO~1\\AppData\\Local\\Temp/ipykernel_11900/2626817068.py\u001b[0m in \u001b[0;36m<module>\u001b[1;34m\u001b[0m\n\u001b[0;32m      3\u001b[0m \u001b[1;32mimport\u001b[0m \u001b[0mnumpy\u001b[0m \u001b[1;32mas\u001b[0m \u001b[0mnp\u001b[0m\u001b[1;33m\u001b[0m\u001b[1;33m\u001b[0m\u001b[0m\n\u001b[0;32m      4\u001b[0m \u001b[1;32mimport\u001b[0m \u001b[0mmatplotlib\u001b[0m\u001b[1;33m.\u001b[0m\u001b[0mpyplot\u001b[0m \u001b[1;32mas\u001b[0m \u001b[0mplt\u001b[0m\u001b[1;33m\u001b[0m\u001b[1;33m\u001b[0m\u001b[0m\n\u001b[1;32m----> 5\u001b[1;33m \u001b[1;32mimport\u001b[0m \u001b[0mseaborn\u001b[0m \u001b[1;32mas\u001b[0m \u001b[0msns\u001b[0m\u001b[1;33m\u001b[0m\u001b[1;33m\u001b[0m\u001b[0m\n\u001b[0m",
      "\u001b[1;31mModuleNotFoundError\u001b[0m: No module named 'seaborn'"
     ]
    }
   ],
   "source": [
    "\n",
    "import os\n",
    "import pandas as pd\n",
    "import numpy as np\n",
    "import matplotlib.pyplot as plt\n",
    "import seaborn as sns"
   ]
  },
  {
   "cell_type": "code",
   "execution_count": 2,
   "metadata": {},
   "outputs": [],
   "source": [
    "train= pd.read_csv('dataset/1 - 20 Percent Training Set.csv', index_col=False, header=0);\n",
    "test = pd.read_csv('dataset/Test - KDDTest.csv', index_col=False, header=0);"
   ]
  },
  {
   "cell_type": "code",
   "execution_count": 3,
   "metadata": {},
   "outputs": [
    {
     "data": {
      "text/html": [
       "<div>\n",
       "<style scoped>\n",
       "    .dataframe tbody tr th:only-of-type {\n",
       "        vertical-align: middle;\n",
       "    }\n",
       "\n",
       "    .dataframe tbody tr th {\n",
       "        vertical-align: top;\n",
       "    }\n",
       "\n",
       "    .dataframe thead th {\n",
       "        text-align: right;\n",
       "    }\n",
       "</style>\n",
       "<table border=\"1\" class=\"dataframe\">\n",
       "  <thead>\n",
       "    <tr style=\"text-align: right;\">\n",
       "      <th></th>\n",
       "      <th>duration</th>\n",
       "      <th>src_bytes</th>\n",
       "      <th>dst_bytes</th>\n",
       "      <th>land</th>\n",
       "      <th>wrong_fragment</th>\n",
       "      <th>urgent</th>\n",
       "      <th>hot</th>\n",
       "      <th>num_failed_logins</th>\n",
       "      <th>logged_in</th>\n",
       "      <th>num_compromised</th>\n",
       "      <th>...</th>\n",
       "      <th>dst_host_count</th>\n",
       "      <th>dst_host_srv_count</th>\n",
       "      <th>dst_host_same_srv_rate</th>\n",
       "      <th>dst_host_diff_srv_rate</th>\n",
       "      <th>dst_host_same_src_port_rate</th>\n",
       "      <th>dst_host_srv_diff_host_rate</th>\n",
       "      <th>dst_host_serror_rate</th>\n",
       "      <th>dst_host_srv_serror_rate</th>\n",
       "      <th>dst_host_rerror_rate</th>\n",
       "      <th>dst_host_srv_rerror_rate</th>\n",
       "    </tr>\n",
       "  </thead>\n",
       "  <tbody>\n",
       "    <tr>\n",
       "      <th>count</th>\n",
       "      <td>25192.000000</td>\n",
       "      <td>2.519200e+04</td>\n",
       "      <td>2.519200e+04</td>\n",
       "      <td>25192.000000</td>\n",
       "      <td>25192.000000</td>\n",
       "      <td>25192.00000</td>\n",
       "      <td>25192.000000</td>\n",
       "      <td>25192.000000</td>\n",
       "      <td>25192.000000</td>\n",
       "      <td>25192.000000</td>\n",
       "      <td>...</td>\n",
       "      <td>25192.000000</td>\n",
       "      <td>25192.000000</td>\n",
       "      <td>25192.000000</td>\n",
       "      <td>25192.000000</td>\n",
       "      <td>25192.000000</td>\n",
       "      <td>25192.000000</td>\n",
       "      <td>25192.000000</td>\n",
       "      <td>25192.000000</td>\n",
       "      <td>25192.000000</td>\n",
       "      <td>25192.000000</td>\n",
       "    </tr>\n",
       "    <tr>\n",
       "      <th>mean</th>\n",
       "      <td>305.054104</td>\n",
       "      <td>2.433063e+04</td>\n",
       "      <td>3.491847e+03</td>\n",
       "      <td>0.000079</td>\n",
       "      <td>0.023738</td>\n",
       "      <td>0.00004</td>\n",
       "      <td>0.198039</td>\n",
       "      <td>0.001191</td>\n",
       "      <td>0.394768</td>\n",
       "      <td>0.227850</td>\n",
       "      <td>...</td>\n",
       "      <td>182.532074</td>\n",
       "      <td>115.063036</td>\n",
       "      <td>0.519791</td>\n",
       "      <td>0.082539</td>\n",
       "      <td>0.147453</td>\n",
       "      <td>0.031844</td>\n",
       "      <td>0.285800</td>\n",
       "      <td>0.279846</td>\n",
       "      <td>0.117800</td>\n",
       "      <td>0.118769</td>\n",
       "    </tr>\n",
       "    <tr>\n",
       "      <th>std</th>\n",
       "      <td>2686.555640</td>\n",
       "      <td>2.410805e+06</td>\n",
       "      <td>8.883072e+04</td>\n",
       "      <td>0.008910</td>\n",
       "      <td>0.260221</td>\n",
       "      <td>0.00630</td>\n",
       "      <td>2.154202</td>\n",
       "      <td>0.045418</td>\n",
       "      <td>0.488811</td>\n",
       "      <td>10.417352</td>\n",
       "      <td>...</td>\n",
       "      <td>98.993895</td>\n",
       "      <td>110.646850</td>\n",
       "      <td>0.448944</td>\n",
       "      <td>0.187191</td>\n",
       "      <td>0.308367</td>\n",
       "      <td>0.110575</td>\n",
       "      <td>0.445316</td>\n",
       "      <td>0.446075</td>\n",
       "      <td>0.305869</td>\n",
       "      <td>0.317333</td>\n",
       "    </tr>\n",
       "    <tr>\n",
       "      <th>min</th>\n",
       "      <td>0.000000</td>\n",
       "      <td>0.000000e+00</td>\n",
       "      <td>0.000000e+00</td>\n",
       "      <td>0.000000</td>\n",
       "      <td>0.000000</td>\n",
       "      <td>0.00000</td>\n",
       "      <td>0.000000</td>\n",
       "      <td>0.000000</td>\n",
       "      <td>0.000000</td>\n",
       "      <td>0.000000</td>\n",
       "      <td>...</td>\n",
       "      <td>0.000000</td>\n",
       "      <td>0.000000</td>\n",
       "      <td>0.000000</td>\n",
       "      <td>0.000000</td>\n",
       "      <td>0.000000</td>\n",
       "      <td>0.000000</td>\n",
       "      <td>0.000000</td>\n",
       "      <td>0.000000</td>\n",
       "      <td>0.000000</td>\n",
       "      <td>0.000000</td>\n",
       "    </tr>\n",
       "    <tr>\n",
       "      <th>25%</th>\n",
       "      <td>0.000000</td>\n",
       "      <td>0.000000e+00</td>\n",
       "      <td>0.000000e+00</td>\n",
       "      <td>0.000000</td>\n",
       "      <td>0.000000</td>\n",
       "      <td>0.00000</td>\n",
       "      <td>0.000000</td>\n",
       "      <td>0.000000</td>\n",
       "      <td>0.000000</td>\n",
       "      <td>0.000000</td>\n",
       "      <td>...</td>\n",
       "      <td>84.000000</td>\n",
       "      <td>10.000000</td>\n",
       "      <td>0.050000</td>\n",
       "      <td>0.000000</td>\n",
       "      <td>0.000000</td>\n",
       "      <td>0.000000</td>\n",
       "      <td>0.000000</td>\n",
       "      <td>0.000000</td>\n",
       "      <td>0.000000</td>\n",
       "      <td>0.000000</td>\n",
       "    </tr>\n",
       "    <tr>\n",
       "      <th>50%</th>\n",
       "      <td>0.000000</td>\n",
       "      <td>4.400000e+01</td>\n",
       "      <td>0.000000e+00</td>\n",
       "      <td>0.000000</td>\n",
       "      <td>0.000000</td>\n",
       "      <td>0.00000</td>\n",
       "      <td>0.000000</td>\n",
       "      <td>0.000000</td>\n",
       "      <td>0.000000</td>\n",
       "      <td>0.000000</td>\n",
       "      <td>...</td>\n",
       "      <td>255.000000</td>\n",
       "      <td>61.000000</td>\n",
       "      <td>0.510000</td>\n",
       "      <td>0.030000</td>\n",
       "      <td>0.000000</td>\n",
       "      <td>0.000000</td>\n",
       "      <td>0.000000</td>\n",
       "      <td>0.000000</td>\n",
       "      <td>0.000000</td>\n",
       "      <td>0.000000</td>\n",
       "    </tr>\n",
       "    <tr>\n",
       "      <th>75%</th>\n",
       "      <td>0.000000</td>\n",
       "      <td>2.790000e+02</td>\n",
       "      <td>5.302500e+02</td>\n",
       "      <td>0.000000</td>\n",
       "      <td>0.000000</td>\n",
       "      <td>0.00000</td>\n",
       "      <td>0.000000</td>\n",
       "      <td>0.000000</td>\n",
       "      <td>1.000000</td>\n",
       "      <td>0.000000</td>\n",
       "      <td>...</td>\n",
       "      <td>255.000000</td>\n",
       "      <td>255.000000</td>\n",
       "      <td>1.000000</td>\n",
       "      <td>0.070000</td>\n",
       "      <td>0.060000</td>\n",
       "      <td>0.020000</td>\n",
       "      <td>1.000000</td>\n",
       "      <td>1.000000</td>\n",
       "      <td>0.000000</td>\n",
       "      <td>0.000000</td>\n",
       "    </tr>\n",
       "    <tr>\n",
       "      <th>max</th>\n",
       "      <td>42862.000000</td>\n",
       "      <td>3.817091e+08</td>\n",
       "      <td>5.151385e+06</td>\n",
       "      <td>1.000000</td>\n",
       "      <td>3.000000</td>\n",
       "      <td>1.00000</td>\n",
       "      <td>77.000000</td>\n",
       "      <td>4.000000</td>\n",
       "      <td>1.000000</td>\n",
       "      <td>884.000000</td>\n",
       "      <td>...</td>\n",
       "      <td>255.000000</td>\n",
       "      <td>255.000000</td>\n",
       "      <td>1.000000</td>\n",
       "      <td>1.000000</td>\n",
       "      <td>1.000000</td>\n",
       "      <td>1.000000</td>\n",
       "      <td>1.000000</td>\n",
       "      <td>1.000000</td>\n",
       "      <td>1.000000</td>\n",
       "      <td>1.000000</td>\n",
       "    </tr>\n",
       "  </tbody>\n",
       "</table>\n",
       "<p>8 rows × 38 columns</p>\n",
       "</div>"
      ],
      "text/plain": [
       "           duration     src_bytes     dst_bytes          land  wrong_fragment  \\\n",
       "count  25192.000000  2.519200e+04  2.519200e+04  25192.000000    25192.000000   \n",
       "mean     305.054104  2.433063e+04  3.491847e+03      0.000079        0.023738   \n",
       "std     2686.555640  2.410805e+06  8.883072e+04      0.008910        0.260221   \n",
       "min        0.000000  0.000000e+00  0.000000e+00      0.000000        0.000000   \n",
       "25%        0.000000  0.000000e+00  0.000000e+00      0.000000        0.000000   \n",
       "50%        0.000000  4.400000e+01  0.000000e+00      0.000000        0.000000   \n",
       "75%        0.000000  2.790000e+02  5.302500e+02      0.000000        0.000000   \n",
       "max    42862.000000  3.817091e+08  5.151385e+06      1.000000        3.000000   \n",
       "\n",
       "            urgent           hot  num_failed_logins     logged_in  \\\n",
       "count  25192.00000  25192.000000       25192.000000  25192.000000   \n",
       "mean       0.00004      0.198039           0.001191      0.394768   \n",
       "std        0.00630      2.154202           0.045418      0.488811   \n",
       "min        0.00000      0.000000           0.000000      0.000000   \n",
       "25%        0.00000      0.000000           0.000000      0.000000   \n",
       "50%        0.00000      0.000000           0.000000      0.000000   \n",
       "75%        0.00000      0.000000           0.000000      1.000000   \n",
       "max        1.00000     77.000000           4.000000      1.000000   \n",
       "\n",
       "       num_compromised  ...  dst_host_count  dst_host_srv_count  \\\n",
       "count     25192.000000  ...    25192.000000        25192.000000   \n",
       "mean          0.227850  ...      182.532074          115.063036   \n",
       "std          10.417352  ...       98.993895          110.646850   \n",
       "min           0.000000  ...        0.000000            0.000000   \n",
       "25%           0.000000  ...       84.000000           10.000000   \n",
       "50%           0.000000  ...      255.000000           61.000000   \n",
       "75%           0.000000  ...      255.000000          255.000000   \n",
       "max         884.000000  ...      255.000000          255.000000   \n",
       "\n",
       "       dst_host_same_srv_rate  dst_host_diff_srv_rate  \\\n",
       "count            25192.000000            25192.000000   \n",
       "mean                 0.519791                0.082539   \n",
       "std                  0.448944                0.187191   \n",
       "min                  0.000000                0.000000   \n",
       "25%                  0.050000                0.000000   \n",
       "50%                  0.510000                0.030000   \n",
       "75%                  1.000000                0.070000   \n",
       "max                  1.000000                1.000000   \n",
       "\n",
       "       dst_host_same_src_port_rate  dst_host_srv_diff_host_rate  \\\n",
       "count                 25192.000000                 25192.000000   \n",
       "mean                      0.147453                     0.031844   \n",
       "std                       0.308367                     0.110575   \n",
       "min                       0.000000                     0.000000   \n",
       "25%                       0.000000                     0.000000   \n",
       "50%                       0.000000                     0.000000   \n",
       "75%                       0.060000                     0.020000   \n",
       "max                       1.000000                     1.000000   \n",
       "\n",
       "       dst_host_serror_rate  dst_host_srv_serror_rate  dst_host_rerror_rate  \\\n",
       "count          25192.000000              25192.000000          25192.000000   \n",
       "mean               0.285800                  0.279846              0.117800   \n",
       "std                0.445316                  0.446075              0.305869   \n",
       "min                0.000000                  0.000000              0.000000   \n",
       "25%                0.000000                  0.000000              0.000000   \n",
       "50%                0.000000                  0.000000              0.000000   \n",
       "75%                1.000000                  1.000000              0.000000   \n",
       "max                1.000000                  1.000000              1.000000   \n",
       "\n",
       "       dst_host_srv_rerror_rate  \n",
       "count              25192.000000  \n",
       "mean                   0.118769  \n",
       "std                    0.317333  \n",
       "min                    0.000000  \n",
       "25%                    0.000000  \n",
       "50%                    0.000000  \n",
       "75%                    0.000000  \n",
       "max                    1.000000  \n",
       "\n",
       "[8 rows x 38 columns]"
      ]
     },
     "execution_count": 3,
     "metadata": {},
     "output_type": "execute_result"
    }
   ],
   "source": [
    "train.describe()"
   ]
  },
  {
   "cell_type": "code",
   "execution_count": 4,
   "metadata": {},
   "outputs": [
    {
     "data": {
      "text/html": [
       "<div>\n",
       "<style scoped>\n",
       "    .dataframe tbody tr th:only-of-type {\n",
       "        vertical-align: middle;\n",
       "    }\n",
       "\n",
       "    .dataframe tbody tr th {\n",
       "        vertical-align: top;\n",
       "    }\n",
       "\n",
       "    .dataframe thead th {\n",
       "        text-align: right;\n",
       "    }\n",
       "</style>\n",
       "<table border=\"1\" class=\"dataframe\">\n",
       "  <thead>\n",
       "    <tr style=\"text-align: right;\">\n",
       "      <th></th>\n",
       "      <th>duration</th>\n",
       "      <th>protocol_type</th>\n",
       "      <th>service</th>\n",
       "      <th>flag</th>\n",
       "      <th>src_bytes</th>\n",
       "      <th>dst_bytes</th>\n",
       "      <th>land</th>\n",
       "      <th>wrong_fragment</th>\n",
       "      <th>urgent</th>\n",
       "      <th>hot</th>\n",
       "      <th>...</th>\n",
       "      <th>dst_host_srv_count</th>\n",
       "      <th>dst_host_same_srv_rate</th>\n",
       "      <th>dst_host_diff_srv_rate</th>\n",
       "      <th>dst_host_same_src_port_rate</th>\n",
       "      <th>dst_host_srv_diff_host_rate</th>\n",
       "      <th>dst_host_serror_rate</th>\n",
       "      <th>dst_host_srv_serror_rate</th>\n",
       "      <th>dst_host_rerror_rate</th>\n",
       "      <th>dst_host_srv_rerror_rate</th>\n",
       "      <th>target</th>\n",
       "    </tr>\n",
       "  </thead>\n",
       "  <tbody>\n",
       "    <tr>\n",
       "      <th>0</th>\n",
       "      <td>0</td>\n",
       "      <td>tcp</td>\n",
       "      <td>ftp_data</td>\n",
       "      <td>SF</td>\n",
       "      <td>491</td>\n",
       "      <td>0</td>\n",
       "      <td>0</td>\n",
       "      <td>0</td>\n",
       "      <td>0</td>\n",
       "      <td>0</td>\n",
       "      <td>...</td>\n",
       "      <td>25</td>\n",
       "      <td>0.17</td>\n",
       "      <td>0.03</td>\n",
       "      <td>0.17</td>\n",
       "      <td>0.00</td>\n",
       "      <td>0.00</td>\n",
       "      <td>0.00</td>\n",
       "      <td>0.05</td>\n",
       "      <td>0.00</td>\n",
       "      <td>normal</td>\n",
       "    </tr>\n",
       "    <tr>\n",
       "      <th>1</th>\n",
       "      <td>0</td>\n",
       "      <td>udp</td>\n",
       "      <td>other</td>\n",
       "      <td>SF</td>\n",
       "      <td>146</td>\n",
       "      <td>0</td>\n",
       "      <td>0</td>\n",
       "      <td>0</td>\n",
       "      <td>0</td>\n",
       "      <td>0</td>\n",
       "      <td>...</td>\n",
       "      <td>1</td>\n",
       "      <td>0.00</td>\n",
       "      <td>0.60</td>\n",
       "      <td>0.88</td>\n",
       "      <td>0.00</td>\n",
       "      <td>0.00</td>\n",
       "      <td>0.00</td>\n",
       "      <td>0.00</td>\n",
       "      <td>0.00</td>\n",
       "      <td>normal</td>\n",
       "    </tr>\n",
       "    <tr>\n",
       "      <th>2</th>\n",
       "      <td>0</td>\n",
       "      <td>tcp</td>\n",
       "      <td>private</td>\n",
       "      <td>S0</td>\n",
       "      <td>0</td>\n",
       "      <td>0</td>\n",
       "      <td>0</td>\n",
       "      <td>0</td>\n",
       "      <td>0</td>\n",
       "      <td>0</td>\n",
       "      <td>...</td>\n",
       "      <td>26</td>\n",
       "      <td>0.10</td>\n",
       "      <td>0.05</td>\n",
       "      <td>0.00</td>\n",
       "      <td>0.00</td>\n",
       "      <td>1.00</td>\n",
       "      <td>1.00</td>\n",
       "      <td>0.00</td>\n",
       "      <td>0.00</td>\n",
       "      <td>neptune</td>\n",
       "    </tr>\n",
       "    <tr>\n",
       "      <th>3</th>\n",
       "      <td>0</td>\n",
       "      <td>tcp</td>\n",
       "      <td>http</td>\n",
       "      <td>SF</td>\n",
       "      <td>232</td>\n",
       "      <td>8153</td>\n",
       "      <td>0</td>\n",
       "      <td>0</td>\n",
       "      <td>0</td>\n",
       "      <td>0</td>\n",
       "      <td>...</td>\n",
       "      <td>255</td>\n",
       "      <td>1.00</td>\n",
       "      <td>0.00</td>\n",
       "      <td>0.03</td>\n",
       "      <td>0.04</td>\n",
       "      <td>0.03</td>\n",
       "      <td>0.01</td>\n",
       "      <td>0.00</td>\n",
       "      <td>0.01</td>\n",
       "      <td>normal</td>\n",
       "    </tr>\n",
       "    <tr>\n",
       "      <th>4</th>\n",
       "      <td>0</td>\n",
       "      <td>tcp</td>\n",
       "      <td>http</td>\n",
       "      <td>SF</td>\n",
       "      <td>199</td>\n",
       "      <td>420</td>\n",
       "      <td>0</td>\n",
       "      <td>0</td>\n",
       "      <td>0</td>\n",
       "      <td>0</td>\n",
       "      <td>...</td>\n",
       "      <td>255</td>\n",
       "      <td>1.00</td>\n",
       "      <td>0.00</td>\n",
       "      <td>0.00</td>\n",
       "      <td>0.00</td>\n",
       "      <td>0.00</td>\n",
       "      <td>0.00</td>\n",
       "      <td>0.00</td>\n",
       "      <td>0.00</td>\n",
       "      <td>normal</td>\n",
       "    </tr>\n",
       "  </tbody>\n",
       "</table>\n",
       "<p>5 rows × 42 columns</p>\n",
       "</div>"
      ],
      "text/plain": [
       "   duration protocol_type   service flag  src_bytes  dst_bytes  land  \\\n",
       "0         0           tcp  ftp_data   SF        491          0     0   \n",
       "1         0           udp     other   SF        146          0     0   \n",
       "2         0           tcp   private   S0          0          0     0   \n",
       "3         0           tcp      http   SF        232       8153     0   \n",
       "4         0           tcp      http   SF        199        420     0   \n",
       "\n",
       "   wrong_fragment  urgent  hot  ...  dst_host_srv_count  \\\n",
       "0               0       0    0  ...                  25   \n",
       "1               0       0    0  ...                   1   \n",
       "2               0       0    0  ...                  26   \n",
       "3               0       0    0  ...                 255   \n",
       "4               0       0    0  ...                 255   \n",
       "\n",
       "   dst_host_same_srv_rate  dst_host_diff_srv_rate  \\\n",
       "0                    0.17                    0.03   \n",
       "1                    0.00                    0.60   \n",
       "2                    0.10                    0.05   \n",
       "3                    1.00                    0.00   \n",
       "4                    1.00                    0.00   \n",
       "\n",
       "   dst_host_same_src_port_rate  dst_host_srv_diff_host_rate  \\\n",
       "0                         0.17                         0.00   \n",
       "1                         0.88                         0.00   \n",
       "2                         0.00                         0.00   \n",
       "3                         0.03                         0.04   \n",
       "4                         0.00                         0.00   \n",
       "\n",
       "   dst_host_serror_rate  dst_host_srv_serror_rate  dst_host_rerror_rate  \\\n",
       "0                  0.00                      0.00                  0.05   \n",
       "1                  0.00                      0.00                  0.00   \n",
       "2                  1.00                      1.00                  0.00   \n",
       "3                  0.03                      0.01                  0.00   \n",
       "4                  0.00                      0.00                  0.00   \n",
       "\n",
       "   dst_host_srv_rerror_rate   target  \n",
       "0                      0.00   normal  \n",
       "1                      0.00   normal  \n",
       "2                      0.00  neptune  \n",
       "3                      0.01   normal  \n",
       "4                      0.00   normal  \n",
       "\n",
       "[5 rows x 42 columns]"
      ]
     },
     "execution_count": 4,
     "metadata": {},
     "output_type": "execute_result"
    }
   ],
   "source": [
    "train.head()"
   ]
  },
  {
   "cell_type": "code",
   "execution_count": 5,
   "metadata": {},
   "outputs": [],
   "source": [
    "#2 values make no contextual sense\n",
    "train.su_attempted = train.su_attempted.replace(2,0)"
   ]
  },
  {
   "cell_type": "code",
   "execution_count": 6,
   "metadata": {},
   "outputs": [
    {
     "name": "stdout",
     "output_type": "stream",
     "text": [
      "target distribution Training set:\n",
      "normal             13449\n",
      "neptune             8282\n",
      "ipsweep              710\n",
      "satan                691\n",
      "portsweep            587\n",
      "smurf                529\n",
      "nmap                 301\n",
      "back                 196\n",
      "teardrop             188\n",
      "warezclient          181\n",
      "pod                   38\n",
      "guess_passwd          10\n",
      "warezmaster            7\n",
      "buffer_overflow        6\n",
      "imap                   5\n",
      "rootkit                4\n",
      "multihop               2\n",
      "phf                    2\n",
      "ftp_write              1\n",
      "land                   1\n",
      "spy                    1\n",
      "loadmodule             1\n",
      "Name: target, dtype: int64\n",
      "target distribution Test set:\n",
      "normal             9710\n",
      "neptune            4657\n",
      "guess_passwd       1231\n",
      "mscan               996\n",
      "warezmaster         944\n",
      "apache2             737\n",
      "satan               735\n",
      "processtable        685\n",
      "smurf               665\n",
      "back                359\n",
      "snmpguess           331\n",
      "saint               319\n",
      "mailbomb            293\n",
      "snmpgetattack       178\n",
      "portsweep           157\n",
      "ipsweep             141\n",
      "httptunnel          133\n",
      "nmap                 73\n",
      "pod                  41\n",
      "buffer_overflow      20\n",
      "multihop             18\n",
      "named                17\n",
      "ps                   15\n",
      "sendmail             14\n",
      "rootkit              13\n",
      "xterm                13\n",
      "teardrop             12\n",
      "xlock                 9\n",
      "land                  7\n",
      "xsnoop                4\n",
      "ftp_write             3\n",
      "udpstorm              2\n",
      "phf                   2\n",
      "worm                  2\n",
      "loadmodule            2\n",
      "perl                  2\n",
      "sqlattack             2\n",
      "imap                  1\n",
      "Name: target, dtype: int64\n"
     ]
    }
   ],
   "source": [
    "print('target distribution Training set:')\n",
    "print(train['target'].value_counts())\n",
    "print('target distribution Test set:')\n",
    "print(test['target'].value_counts())"
   ]
  },
  {
   "cell_type": "markdown",
   "metadata": {},
   "source": [
    "One-Hot Encoding"
   ]
  },
  {
   "cell_type": "code",
   "execution_count": 7,
   "metadata": {},
   "outputs": [
    {
     "name": "stdout",
     "output_type": "stream",
     "text": [
      "Training Features shape:  (25192, 118)\n",
      "Testing Features shape:  (22543, 115)\n"
     ]
    }
   ],
   "source": [
    "#ONE-HOT ENCODING OF CATEGORICAL VARIABLES\n",
    "train_target = train[\"target\"]\n",
    "test_target = test[\"target\"]\n",
    "train = train.drop(\"target\" , axis =1)\n",
    "test = test.drop('target', axis =1)\n",
    "train = pd.get_dummies(train)\n",
    "test = pd.get_dummies(test)\n",
    "\n",
    "\n",
    "print('Training Features shape: ', train.shape)\n",
    "print('Testing Features shape: ', test.shape)"
   ]
  },
  {
   "cell_type": "code",
   "execution_count": 8,
   "metadata": {},
   "outputs": [
    {
     "name": "stdout",
     "output_type": "stream",
     "text": [
      "Training Features shape:  (25192, 116)\n",
      "Testing Features shape:  (22543, 116)\n"
     ]
    }
   ],
   "source": [
    "#aligning train and test sets to have same features\n",
    "train['target'] = train_target\n",
    "test['target'] = test_target\n",
    "\n",
    "\n",
    "train, test = train.align(test, join = 'inner', axis = 1)\n",
    "\n",
    "\n",
    "print('Training Features shape: ', train.shape)\n",
    "print('Testing Features shape: ', test.shape)"
   ]
  },
  {
   "cell_type": "code",
   "execution_count": 9,
   "metadata": {},
   "outputs": [
    {
     "name": "stdout",
     "output_type": "stream",
     "text": [
      "0    0\n",
      "1    0\n",
      "2    1\n",
      "3    0\n",
      "4    0\n",
      "Name: target, dtype: int64\n"
     ]
    }
   ],
   "source": [
    "# take target column\n",
    "targetdf=train['target']\n",
    "targetdf_test=test['target']\n",
    "# change the target column\n",
    "newtargetdf=targetdf.replace({ 'normal' : 0, 'neptune' : 1 ,'back': 1, 'land': 1, 'pod': 1, 'smurf': 1, 'teardrop': 1,'mailbomb': 1, 'apache2': 1, 'processtable': 1, 'udpstorm': 1, 'worm': 1,\n",
    "                           'ipsweep' : 2,'nmap' : 2,'portsweep' : 2,'satan' : 2,'mscan' : 2,'saint' : 2\n",
    "                           ,'ftp_write': 3,'guess_passwd': 3,'imap': 3,'multihop': 3,'phf': 3,'spy': 3,'warezclient': 3,'warezmaster': 3,'sendmail': 3,'named': 3,'snmpgetattack': 3,'snmpguess': 3,'xlock': 3,'xsnoop': 3,'httptunnel': 3,\n",
    "                           'buffer_overflow': 4,'loadmodule': 4,'perl': 4,'rootkit': 4,'ps': 4,'sqlattack': 4,'xterm': 4})\n",
    "newtargetdf_test=targetdf_test.replace({ 'normal' : 0, 'neptune' : 1 ,'back': 1, 'land': 1, 'pod': 1, 'smurf': 1, 'teardrop': 1,'mailbomb': 1, 'apache2': 1, 'processtable': 1, 'udpstorm': 1, 'worm': 1,\n",
    "                           'ipsweep' : 2,'nmap' : 2,'portsweep' : 2,'satan' : 2,'mscan' : 2,'saint' : 2\n",
    "                           ,'ftp_write': 3,'guess_passwd': 3,'imap': 3,'multihop': 3,'phf': 3,'spy': 3,'warezclient': 3,'warezmaster': 3,'sendmail': 3,'named': 3,'snmpgetattack': 3,'snmpguess': 3,'xlock': 3,'xsnoop': 3,'httptunnel': 3,\n",
    "                           'buffer_overflow': 4,'loadmodule': 4,'perl': 4,'rootkit': 4,'ps': 4,'sqlattack': 4,'xterm': 4})\n",
    "# put the new target column back\n",
    "train['target'] = newtargetdf\n",
    "test['target'] = newtargetdf_test\n",
    "print(train['target'].head())"
   ]
  },
  {
   "cell_type": "code",
   "execution_count": 10,
   "metadata": {},
   "outputs": [
    {
     "name": "stdout",
     "output_type": "stream",
     "text": [
      "Train:\n",
      "Dimensions of DoS: (22683, 116)\n",
      "Dimensions of Probe: (15738, 116)\n",
      "Dimensions of R2L: (13658, 116)\n",
      "Dimensions of U2R: (13460, 116)\n",
      "Test:\n",
      "Dimensions of DoS: (17170, 116)\n",
      "Dimensions of Probe: (12131, 116)\n",
      "Dimensions of R2L: (12595, 116)\n",
      "Dimensions of U2R: (9777, 116)\n"
     ]
    }
   ],
   "source": [
    "to_drop_DoS = [2,3,4]\n",
    "to_drop_Probe = [1,3,4]\n",
    "to_drop_R2L = [1,2,4]\n",
    "to_drop_U2R = [1,2,3]\n",
    "to_drop_normal = [1,2,3,4]\n",
    "DoS_df=train[~train['target'].isin(to_drop_DoS)];\n",
    "Probe_df=train[~train['target'].isin(to_drop_Probe)];\n",
    "R2L_df=train[~train['target'].isin(to_drop_R2L)];\n",
    "U2R_df=train[~train['target'].isin(to_drop_U2R)];\n",
    "\n",
    "#test\n",
    "DoS_df_test=test[~test['target'].isin(to_drop_DoS)];\n",
    "Probe_df_test=test[~test['target'].isin(to_drop_Probe)];\n",
    "R2L_df_test=test[~test['target'].isin(to_drop_R2L)];\n",
    "U2R_df_test=test[~test['target'].isin(to_drop_U2R)];\n",
    "\n",
    "\n",
    "print('Train:')\n",
    "print('Dimensions of DoS:' ,DoS_df.shape)\n",
    "print('Dimensions of Probe:' ,Probe_df.shape)\n",
    "print('Dimensions of R2L:' ,R2L_df.shape)\n",
    "print('Dimensions of U2R:' ,U2R_df.shape)\n",
    "\n",
    "print('Test:')\n",
    "print('Dimensions of DoS:' ,DoS_df_test.shape)\n",
    "print('Dimensions of Probe:' ,Probe_df_test.shape)\n",
    "print('Dimensions of R2L:' ,R2L_df_test.shape)\n",
    "print('Dimensions of U2R:' ,U2R_df_test.shape)"
   ]
  },
  {
   "cell_type": "markdown",
   "metadata": {},
   "source": [
    "Finding Correlations for Feature Engineering"
   ]
  },
  {
   "cell_type": "code",
   "execution_count": 11,
   "metadata": {},
   "outputs": [
    {
     "name": "stdout",
     "output_type": "stream",
     "text": [
      "Most Positive Correlations:\n",
      " service_private             0.458233\n",
      "dst_host_count              0.495105\n",
      "count                       0.700821\n",
      "serror_rate                 0.782802\n",
      "dst_host_serror_rate        0.783616\n",
      "srv_serror_rate             0.783661\n",
      "dst_host_srv_serror_rate    0.788777\n",
      "flag_S0                     0.789142\n",
      "target                      1.000000\n",
      "urgent                           NaN\n",
      "num_outbound_cmds                NaN\n",
      "is_host_login                    NaN\n",
      "service_pm_dump                  NaN\n",
      "flag_RSTOS0                      NaN\n",
      "flag_SH                          NaN\n",
      "Name: target, dtype: float64\n",
      "\n",
      "Most Negative Correlations:\n",
      " same_srv_rate                 -0.863724\n",
      "flag_SF                       -0.843535\n",
      "dst_host_same_srv_rate        -0.760395\n",
      "dst_host_srv_count            -0.717842\n",
      "logged_in                     -0.682754\n",
      "service_http                  -0.529998\n",
      "srv_diff_host_rate            -0.272376\n",
      "protocol_type_udp             -0.252122\n",
      "service_domain_u              -0.244516\n",
      "dst_host_srv_diff_host_rate   -0.218386\n",
      "service_smtp                  -0.197618\n",
      "dst_host_same_src_port_rate   -0.154620\n",
      "service_other                 -0.124905\n",
      "service_ftp_data              -0.102189\n",
      "duration                      -0.085876\n",
      "Name: target, dtype: float64\n"
     ]
    }
   ],
   "source": [
    "\n",
    "# Find correlations with the target and sort\n",
    "DoS_correlations = DoS_df.corr()['target'].sort_values()\n",
    "\n",
    "# Display correlations\n",
    "print('Most Positive Correlations:\\n', DoS_correlations.tail(15))\n",
    "print('\\nMost Negative Correlations:\\n', DoS_correlations.head(15))"
   ]
  },
  {
   "cell_type": "code",
   "execution_count": 12,
   "metadata": {},
   "outputs": [
    {
     "name": "stdout",
     "output_type": "stream",
     "text": [
      "Most Positive Correlations:\n",
      " dst_host_same_src_port_rate    0.554764\n",
      "target                         1.000000\n",
      "wrong_fragment                      NaN\n",
      "urgent                              NaN\n",
      "num_outbound_cmds                   NaN\n",
      "is_host_login                       NaN\n",
      "service_login                       NaN\n",
      "service_printer                     NaN\n",
      "service_tim_i                       NaN\n",
      "service_vmnet                       NaN\n",
      "Name: target, dtype: float64\n",
      "\n",
      "Most Negative Correlations:\n",
      " logged_in                -0.506745\n",
      "dst_host_srv_count       -0.495078\n",
      "flag_SF                  -0.461905\n",
      "same_srv_rate            -0.396385\n",
      "service_http             -0.395928\n",
      "dst_host_same_srv_rate   -0.384406\n",
      "protocol_type_tcp        -0.239128\n",
      "service_domain_u         -0.147494\n",
      "service_smtp             -0.122582\n",
      "srv_count                -0.108015\n",
      "Name: target, dtype: float64\n"
     ]
    }
   ],
   "source": [
    "# Find correlations with the target and sort\n",
    "Probe_correlations = Probe_df.corr()['target'].sort_values()\n",
    "\n",
    "# Display correlations\n",
    "print('Most Positive Correlations:\\n', Probe_correlations.tail(10))\n",
    "print('\\nMost Negative Correlations:\\n', Probe_correlations.head(10))"
   ]
  },
  {
   "cell_type": "code",
   "execution_count": 13,
   "metadata": {},
   "outputs": [
    {
     "name": "stdout",
     "output_type": "stream",
     "text": [
      "Most Positive Correlations:\n",
      " service_sunrpc      NaN\n",
      "service_supdup      NaN\n",
      "service_systat      NaN\n",
      "service_tim_i       NaN\n",
      "service_uucp        NaN\n",
      "service_uucp_path   NaN\n",
      "service_vmnet       NaN\n",
      "service_whois       NaN\n",
      "flag_RSTOS0         NaN\n",
      "flag_SH             NaN\n",
      "Name: target, dtype: float64\n",
      "\n",
      "Most Negative Correlations:\n",
      " dst_host_srv_count       -0.055180\n",
      "service_http             -0.032393\n",
      "dst_host_count           -0.021833\n",
      "srv_diff_host_rate       -0.013336\n",
      "srv_count                -0.012574\n",
      "service_domain_u         -0.011298\n",
      "count                    -0.011251\n",
      "service_smtp             -0.009705\n",
      "dst_host_diff_srv_rate   -0.007830\n",
      "dst_host_same_srv_rate   -0.007043\n",
      "Name: target, dtype: float64\n"
     ]
    }
   ],
   "source": [
    "# Find correlations with the target and sort\n",
    "U2R_correlations = U2R_df.corr()['target'].sort_values()\n",
    "\n",
    "# Display correlations\n",
    "print('Most Positive Correlations:\\n', U2R_correlations.tail(10))\n",
    "print('\\nMost Negative Correlations:\\n', U2R_correlations.head(10))"
   ]
  },
  {
   "cell_type": "code",
   "execution_count": 14,
   "metadata": {},
   "outputs": [
    {
     "name": "stdout",
     "output_type": "stream",
     "text": [
      "Most Positive Correlations:\n",
      " service_ssh         NaN\n",
      "service_sunrpc      NaN\n",
      "service_supdup      NaN\n",
      "service_systat      NaN\n",
      "service_tim_i       NaN\n",
      "service_uucp        NaN\n",
      "service_uucp_path   NaN\n",
      "service_vmnet       NaN\n",
      "service_whois       NaN\n",
      "flag_RSTOS0         NaN\n",
      "Name: target, dtype: float64\n",
      "\n",
      "Most Negative Correlations:\n",
      " dst_host_srv_count   -0.189645\n",
      "service_http         -0.136525\n",
      "dst_host_count       -0.079184\n",
      "protocol_type_udp    -0.059108\n",
      "srv_count            -0.050763\n",
      "count                -0.048972\n",
      "service_domain_u     -0.048833\n",
      "srv_diff_host_rate   -0.045662\n",
      "service_smtp         -0.041961\n",
      "flag_REJ             -0.024677\n",
      "Name: target, dtype: float64\n"
     ]
    }
   ],
   "source": [
    "# Find correlations with the target and sort\n",
    "R2L_correlations = R2L_df.corr()['target'].sort_values()\n",
    "\n",
    "# Display correlations\n",
    "print('Most Positive Correlations:\\n', R2L_correlations.tail(10))\n",
    "print('\\nMost Negative Correlations:\\n', R2L_correlations.head(10))"
   ]
  },
  {
   "cell_type": "code",
   "execution_count": 15,
   "metadata": {},
   "outputs": [
    {
     "name": "stderr",
     "output_type": "stream",
     "text": [
      "<ipython-input-15-766317168f58>:40: SettingWithCopyWarning: \n",
      "A value is trying to be set on a copy of a slice from a DataFrame.\n",
      "Try using .loc[row_indexer,col_indexer] = value instead\n",
      "\n",
      "See the caveats in the documentation: https://pandas.pydata.org/pandas-docs/stable/user_guide/indexing.html#returning-a-view-versus-a-copy\n",
      "  a['index_col'] = a.index\n",
      "<ipython-input-15-766317168f58>:41: SettingWithCopyWarning: \n",
      "A value is trying to be set on a copy of a slice from a DataFrame.\n",
      "Try using .loc[row_indexer,col_indexer] = value instead\n",
      "\n",
      "See the caveats in the documentation: https://pandas.pydata.org/pandas-docs/stable/user_guide/indexing.html#returning-a-view-versus-a-copy\n",
      "  b['index_col'] = b.index\n"
     ]
    },
    {
     "name": "stdout",
     "output_type": "stream",
     "text": [
      "(       duration_x  src_bytes  dst_bytes  land  wrong_fragment  urgent_x  hot  \\\n",
      "0               0        491          0     0               0         0    0   \n",
      "1               0        146          0     0               0         0    0   \n",
      "2               0          0          0     0               0         0    0   \n",
      "3               0        232       8153     0               0         0    0   \n",
      "4               0        199        420     0               0         0    0   \n",
      "...           ...        ...        ...   ...             ...       ...  ...   \n",
      "22678           0        339      14600     0               0         0    0   \n",
      "22679           0          0          0     0               0         0    0   \n",
      "22680           0          0          0     0               0         0    0   \n",
      "22681           0          0          0     0               0         0    0   \n",
      "22682           0          0          0     0               0         0    0   \n",
      "\n",
      "       num_failed_logins  logged_in_x  num_compromised  ...  flag_RSTO  \\\n",
      "0                      0            0                0  ...          0   \n",
      "1                      0            0                0  ...          0   \n",
      "2                      0            0                0  ...          0   \n",
      "3                      0            1                0  ...          0   \n",
      "4                      0            1                0  ...          0   \n",
      "...                  ...          ...              ...  ...        ...   \n",
      "22678                  0            1                0  ...          0   \n",
      "22679                  0            0                0  ...          1   \n",
      "22680                  0            0                0  ...          0   \n",
      "22681                  0            0                0  ...          0   \n",
      "22682                  0            0                0  ...          0   \n",
      "\n",
      "       flag_RSTOS0_x  flag_RSTR  flag_S0_x  flag_S1  flag_S2  flag_S3  \\\n",
      "0                  0          0          0        0        0        0   \n",
      "1                  0          0          0        0        0        0   \n",
      "2                  0          0          1        0        0        0   \n",
      "3                  0          0          0        0        0        0   \n",
      "4                  0          0          0        0        0        0   \n",
      "...              ...        ...        ...      ...      ...      ...   \n",
      "22678              0          0          0        1        0        0   \n",
      "22679              0          0          0        0        0        0   \n",
      "22680              0          0          0        0        0        0   \n",
      "22681              0          0          1        0        0        0   \n",
      "22682              0          0          1        0        0        0   \n",
      "\n",
      "       flag_SF_x  flag_SH_x  index_col  \n",
      "0              1          0          0  \n",
      "1              1          0          1  \n",
      "2              0          0          2  \n",
      "3              1          0          3  \n",
      "4              1          0          4  \n",
      "...          ...        ...        ...  \n",
      "22678          0          0      25186  \n",
      "22679          0          0      25187  \n",
      "22680          0          0      25189  \n",
      "22681          0          0      25190  \n",
      "22682          0          0      25191  \n",
      "\n",
      "[22683 rows x 116 columns],        duration_x  src_bytes  dst_bytes  land  wrong_fragment  urgent_x  hot  \\\n",
      "0               0          0          0     0               0         0    0   \n",
      "1               0          0          0     0               0         0    0   \n",
      "2               2      12983          0     0               0         0    0   \n",
      "3               0        267      14515     0               0         0    0   \n",
      "4               0       1022        387     0               0         0    0   \n",
      "...           ...        ...        ...   ...             ...       ...  ...   \n",
      "17165           0       1032          0     0               0         0    0   \n",
      "17166           0        794        333     0               0         0    0   \n",
      "17167           0        317        938     0               0         0    0   \n",
      "17168           0      54540       8314     0               0         0    2   \n",
      "17169           0         42         42     0               0         0    0   \n",
      "\n",
      "       num_failed_logins  logged_in_x  num_compromised  ...  flag_RSTO  \\\n",
      "0                      0            0                0  ...          0   \n",
      "1                      0            0                0  ...          0   \n",
      "2                      0            0                0  ...          0   \n",
      "3                      0            1                0  ...          0   \n",
      "4                      0            1                0  ...          0   \n",
      "...                  ...          ...              ...  ...        ...   \n",
      "17165                  0            0                0  ...          0   \n",
      "17166                  0            1                0  ...          0   \n",
      "17167                  0            1                0  ...          0   \n",
      "17168                  0            1                1  ...          0   \n",
      "17169                  0            0                0  ...          0   \n",
      "\n",
      "       flag_RSTOS0_x  flag_RSTR  flag_S0_x  flag_S1  flag_S2  flag_S3  \\\n",
      "0                  0          0          0        0        0        0   \n",
      "1                  0          0          0        0        0        0   \n",
      "2                  0          0          0        0        0        0   \n",
      "3                  0          0          0        0        0        0   \n",
      "4                  0          0          0        0        0        0   \n",
      "...              ...        ...        ...      ...      ...      ...   \n",
      "17165              0          0          0        0        0        0   \n",
      "17166              0          0          0        0        0        0   \n",
      "17167              0          0          0        0        0        0   \n",
      "17168              0          0          0        0        0        0   \n",
      "17169              0          0          0        0        0        0   \n",
      "\n",
      "       flag_SF_x  flag_SH_x  index_col  \n",
      "0              0          0          0  \n",
      "1              0          0          1  \n",
      "2              1          0          2  \n",
      "3              1          0          5  \n",
      "4              1          0          6  \n",
      "...          ...        ...        ...  \n",
      "17165          1          0      22537  \n",
      "17166          1          0      22538  \n",
      "17167          1          0      22539  \n",
      "17168          1          0      22540  \n",
      "17169          1          0      22541  \n",
      "\n",
      "[17170 rows x 116 columns], 0        0\n",
      "1        0\n",
      "2        1\n",
      "3        0\n",
      "4        0\n",
      "        ..\n",
      "25186    0\n",
      "25187    1\n",
      "25189    1\n",
      "25190    1\n",
      "25191    1\n",
      "Name: target, Length: 22683, dtype: int64, 0        1\n",
      "1        1\n",
      "2        0\n",
      "5        0\n",
      "6        0\n",
      "        ..\n",
      "22537    1\n",
      "22538    0\n",
      "22539    0\n",
      "22540    1\n",
      "22541    0\n",
      "Name: target, Length: 17170, dtype: int64)\n"
     ]
    }
   ],
   "source": [
    "def polynomial_terms_maker(a,b):\n",
    "    \n",
    "    corr = a.corr()['target'].sort_values()\n",
    "    poly_features_head = [*dict(corr.head(15))]\n",
    "    poly_features_tail = [*dict(corr.tail(15))]\n",
    "    poly_features = poly_features_head+(poly_features_tail)\n",
    "    poly_features_test=b[poly_features]\n",
    "    poly_features = a[poly_features]    \n",
    "    poly_features = poly_features\n",
    "    if \"target\" in poly_features:\n",
    "        poly_features_test = poly_features_test.drop(\"target\",axis =1)   \n",
    "        poly_features = poly_features.drop(\"target\",axis =1)    \n",
    "    poly_names= list(poly_features.columns)\n",
    "    poly_target = a[\"target\"]\n",
    "    poly_target_test =b[\"target\"]\n",
    "    from sklearn.preprocessing import PolynomialFeatures\n",
    "                                  \n",
    "    # Create the polynomial object with specified degree\n",
    "    poly_transformer = PolynomialFeatures(degree = 3)\n",
    "\n",
    "    # Train the polynomial features \n",
    "    poly_transformer.fit(poly_features)\n",
    "\n",
    "    # Transform the features\n",
    "    poly_features = poly_transformer.transform(poly_features)\n",
    "    poly_features_test = poly_transformer.transform(poly_features_test)\n",
    "    #print('Polynomial Features shape: ', poly_features.shape)\n",
    "\n",
    "    poly_transformer.get_feature_names(input_features = poly_names)\n",
    "    \n",
    "    # Create a dataframe of the features \n",
    "    poly_features = pd.DataFrame(poly_features, \n",
    "                             columns = poly_transformer.get_feature_names(poly_names))\n",
    "    # Put test features into dataframe\n",
    "    poly_features_test = pd.DataFrame(poly_features_test, \n",
    "                                  columns = poly_transformer.get_feature_names(poly_names))\n",
    "    # Add in the target\n",
    "    poly_features['target'] = poly_target\n",
    "\n",
    "    a['index_col'] = a.index\n",
    "    b['index_col'] = b.index\n",
    "\n",
    "    # Merge polynomial features into training dataframe\n",
    "    poly_features['index_col'] = a['index_col']\n",
    "    poly = a.merge(poly_features, on = 'index_col', how = 'left')\n",
    "\n",
    "    # Merge polnomial features into testing dataframe\n",
    "    poly_features_test['index_col'] = b['index_col']\n",
    "    test_poly = b.merge(poly_features_test, on = 'index_col', how = 'left')\n",
    "    \n",
    "    \n",
    "\n",
    "    # Align the dataframes\n",
    "    poly, test_poly = poly.align(test_poly, join = 'inner', axis = 1)\n",
    "    \n",
    "        \n",
    "    #Drop NaN columns\n",
    "    poly= poly.dropna(axis=1,how=\"any\")\n",
    "    test_poly= test_poly.dropna(axis=1,how=\"any\")\n",
    "    \n",
    "    return poly,test_poly,poly_target,poly_target_test\n",
    "    # Print out the new shapes\n",
    "    #print('Training data with polynomial features shape: ', DoS_df.shape)\n",
    "    #print('Testing data with polynomial features shape:  ', DoS_df_test.shape)\n",
    "\n",
    "print(polynomial_terms_maker(DoS_df,DoS_df_test))"
   ]
  },
  {
   "cell_type": "code",
   "execution_count": 16,
   "metadata": {},
   "outputs": [
    {
     "name": "stderr",
     "output_type": "stream",
     "text": [
      "<ipython-input-15-766317168f58>:40: SettingWithCopyWarning: \n",
      "A value is trying to be set on a copy of a slice from a DataFrame.\n",
      "Try using .loc[row_indexer,col_indexer] = value instead\n",
      "\n",
      "See the caveats in the documentation: https://pandas.pydata.org/pandas-docs/stable/user_guide/indexing.html#returning-a-view-versus-a-copy\n",
      "  a['index_col'] = a.index\n",
      "<ipython-input-15-766317168f58>:41: SettingWithCopyWarning: \n",
      "A value is trying to be set on a copy of a slice from a DataFrame.\n",
      "Try using .loc[row_indexer,col_indexer] = value instead\n",
      "\n",
      "See the caveats in the documentation: https://pandas.pydata.org/pandas-docs/stable/user_guide/indexing.html#returning-a-view-versus-a-copy\n",
      "  b['index_col'] = b.index\n",
      "<ipython-input-15-766317168f58>:40: SettingWithCopyWarning: \n",
      "A value is trying to be set on a copy of a slice from a DataFrame.\n",
      "Try using .loc[row_indexer,col_indexer] = value instead\n",
      "\n",
      "See the caveats in the documentation: https://pandas.pydata.org/pandas-docs/stable/user_guide/indexing.html#returning-a-view-versus-a-copy\n",
      "  a['index_col'] = a.index\n",
      "<ipython-input-15-766317168f58>:41: SettingWithCopyWarning: \n",
      "A value is trying to be set on a copy of a slice from a DataFrame.\n",
      "Try using .loc[row_indexer,col_indexer] = value instead\n",
      "\n",
      "See the caveats in the documentation: https://pandas.pydata.org/pandas-docs/stable/user_guide/indexing.html#returning-a-view-versus-a-copy\n",
      "  b['index_col'] = b.index\n",
      "<ipython-input-15-766317168f58>:40: SettingWithCopyWarning: \n",
      "A value is trying to be set on a copy of a slice from a DataFrame.\n",
      "Try using .loc[row_indexer,col_indexer] = value instead\n",
      "\n",
      "See the caveats in the documentation: https://pandas.pydata.org/pandas-docs/stable/user_guide/indexing.html#returning-a-view-versus-a-copy\n",
      "  a['index_col'] = a.index\n",
      "<ipython-input-15-766317168f58>:41: SettingWithCopyWarning: \n",
      "A value is trying to be set on a copy of a slice from a DataFrame.\n",
      "Try using .loc[row_indexer,col_indexer] = value instead\n",
      "\n",
      "See the caveats in the documentation: https://pandas.pydata.org/pandas-docs/stable/user_guide/indexing.html#returning-a-view-versus-a-copy\n",
      "  b['index_col'] = b.index\n",
      "<ipython-input-15-766317168f58>:40: SettingWithCopyWarning: \n",
      "A value is trying to be set on a copy of a slice from a DataFrame.\n",
      "Try using .loc[row_indexer,col_indexer] = value instead\n",
      "\n",
      "See the caveats in the documentation: https://pandas.pydata.org/pandas-docs/stable/user_guide/indexing.html#returning-a-view-versus-a-copy\n",
      "  a['index_col'] = a.index\n",
      "<ipython-input-15-766317168f58>:41: SettingWithCopyWarning: \n",
      "A value is trying to be set on a copy of a slice from a DataFrame.\n",
      "Try using .loc[row_indexer,col_indexer] = value instead\n",
      "\n",
      "See the caveats in the documentation: https://pandas.pydata.org/pandas-docs/stable/user_guide/indexing.html#returning-a-view-versus-a-copy\n",
      "  b['index_col'] = b.index\n"
     ]
    },
    {
     "data": {
      "text/plain": [
       "(22683, 116)"
      ]
     },
     "execution_count": 16,
     "metadata": {},
     "output_type": "execute_result"
    }
   ],
   "source": [
    "# Split dataframes into X & Y\n",
    "# assign X as a dataframe of feautures and Y as a series of outcome variables\n",
    "X_DoS, X_DoS_test, Y_DoS, Y_DoS_test= polynomial_terms_maker(DoS_df,DoS_df_test)\n",
    "X_Probe,X_Probe_test,Y_Probe,Y_Probe_test =polynomial_terms_maker(Probe_df,Probe_df_test)\n",
    "X_R2L,X_R2L_test,Y_R2L,Y_R2L_test =polynomial_terms_maker(R2L_df,R2L_df_test)\n",
    "X_U2R,X_U2R_test,Y_U2R,Y_U2R_test =polynomial_terms_maker(U2R_df,U2R_df_test)\n",
    "X_DoS.shape"
   ]
  },
  {
   "cell_type": "code",
   "execution_count": 17,
   "metadata": {},
   "outputs": [
    {
     "name": "stdout",
     "output_type": "stream",
     "text": [
      "(13658, 116)\n",
      "(22683, 116)\n"
     ]
    }
   ],
   "source": [
    "print(X_R2L.shape)\n",
    "print(X_DoS.shape)"
   ]
  },
  {
   "cell_type": "code",
   "execution_count": 18,
   "metadata": {},
   "outputs": [],
   "source": [
    "colNames=list(X_DoS)\n",
    "colNames_test=list(X_DoS_test)"
   ]
  },
  {
   "cell_type": "code",
   "execution_count": 19,
   "metadata": {},
   "outputs": [
    {
     "name": "stdout",
     "output_type": "stream",
     "text": [
      "116\n",
      "116\n"
     ]
    }
   ],
   "source": [
    "print(len(colNames))\n",
    "print(len(colNames_test))"
   ]
  },
  {
   "cell_type": "markdown",
   "metadata": {},
   "source": [
    "Scaling The Data"
   ]
  },
  {
   "cell_type": "code",
   "execution_count": 20,
   "metadata": {},
   "outputs": [],
   "source": [
    "\n",
    "from sklearn import preprocessing\n",
    "scaler1 = preprocessing.StandardScaler().fit(X_DoS)\n",
    "X_DoS=scaler1.transform(X_DoS) \n",
    "scaler2 = preprocessing.StandardScaler().fit(X_Probe)\n",
    "X_Probe=scaler2.transform(X_Probe) \n",
    "scaler3 = preprocessing.StandardScaler().fit(X_R2L)\n",
    "X_R2L=scaler3.transform(X_R2L) \n",
    "scaler4 = preprocessing.StandardScaler().fit(X_U2R)\n",
    "X_U2R=scaler4.transform(X_U2R) \n",
    "# test data\n",
    "scaler5 = preprocessing.StandardScaler().fit(X_DoS_test)\n",
    "X_DoS_test=scaler5.transform(X_DoS_test) \n",
    "scaler6 = preprocessing.StandardScaler().fit(X_Probe_test)\n",
    "X_Probe_test=scaler6.transform(X_Probe_test) \n",
    "scaler7 = preprocessing.StandardScaler().fit(X_R2L_test)\n",
    "X_R2L_test=scaler7.transform(X_R2L_test) \n",
    "scaler8 = preprocessing.StandardScaler().fit(X_U2R_test)\n",
    "X_U2R_test=scaler8.transform(X_U2R_test)"
   ]
  },
  {
   "cell_type": "code",
   "execution_count": 21,
   "metadata": {},
   "outputs": [
    {
     "name": "stdout",
     "output_type": "stream",
     "text": [
      "[1. 1. 1. 1. 0. 0. 1. 1. 1. 1. 1. 1. 1. 1. 1. 1. 0. 0. 1. 1. 1. 1. 1. 1.\n",
      " 1. 1. 1. 1. 1. 1. 1. 1. 1. 1. 1. 1. 1. 1. 1. 1. 1. 1. 1. 1. 1. 1. 1. 1.\n",
      " 1. 1. 1. 1. 1. 1. 1. 1. 1. 1. 1. 1. 1. 1. 1. 1. 1. 1. 1. 1. 1. 1. 1. 0.\n",
      " 1. 1. 1. 1. 1. 1. 1. 1. 1. 1. 1. 1. 1. 0. 1. 1. 1. 1. 1. 1. 1. 1. 1. 1.\n",
      " 1. 0. 1. 1. 1. 1. 0. 1. 1. 1. 1. 1. 1. 1. 1. 1. 1. 1. 1. 1.]\n"
     ]
    }
   ],
   "source": [
    "print(X_Probe.std(axis=0))"
   ]
  },
  {
   "cell_type": "markdown",
   "metadata": {},
   "source": [
    "RFE for Feature Selection"
   ]
  },
  {
   "cell_type": "code",
   "execution_count": 22,
   "metadata": {},
   "outputs": [],
   "source": [
    "from sklearn.feature_selection import RFE\n",
    "from sklearn.ensemble import RandomForestClassifier\n",
    "\n",
    "clf = RandomForestClassifier(n_jobs=2)\n",
    "rfe = RFE(estimator=clf, n_features_to_select=15, step=1)\n",
    "rfe.fit(X_DoS, Y_DoS)\n",
    "X_rfeDoS=rfe.transform(X_DoS)\n",
    "true=rfe.support_\n",
    "rfecolindex_DoS=[i for i, x in enumerate(true) if x]\n",
    "rfecolname_DoS=list(colNames[i] for i in rfecolindex_DoS)"
   ]
  },
  {
   "cell_type": "code",
   "execution_count": 23,
   "metadata": {},
   "outputs": [],
   "source": [
    "rfe.fit(X_Probe, Y_Probe)\n",
    "X_rfeProbe=rfe.transform(X_Probe)\n",
    "true=rfe.support_\n",
    "rfecolindex_Probe=[i for i, x in enumerate(true) if x]\n",
    "rfecolname_Probe=list(colNames[i] for i in rfecolindex_Probe)"
   ]
  },
  {
   "cell_type": "code",
   "execution_count": 24,
   "metadata": {},
   "outputs": [],
   "source": [
    "rfe.fit(X_R2L, Y_R2L)\n",
    "X_rfeR2L=rfe.transform(X_R2L)\n",
    "true=rfe.support_\n",
    "rfecolindex_R2L=[i for i, x in enumerate(true) if x]\n",
    "rfecolname_R2L=list(colNames[i] for i in rfecolindex_R2L)"
   ]
  },
  {
   "cell_type": "code",
   "execution_count": 25,
   "metadata": {},
   "outputs": [],
   "source": [
    "rfe.fit(X_U2R, Y_U2R)\n",
    "X_rfeU2R=rfe.transform(X_U2R)\n",
    "true=rfe.support_\n",
    "rfecolindex_U2R=[i for i, x in enumerate(true) if x]\n",
    "rfecolname_U2R=list(colNames[i] for i in rfecolindex_U2R)"
   ]
  },
  {
   "cell_type": "code",
   "execution_count": 26,
   "metadata": {},
   "outputs": [
    {
     "name": "stdout",
     "output_type": "stream",
     "text": [
      "Features selected for DoS: ['src_bytes', 'dst_bytes', 'wrong_fragment', 'count_x', 'srv_count', 'serror_rate_x', 'same_srv_rate_x', 'diff_srv_rate', 'dst_host_same_srv_rate_x', 'dst_host_serror_rate_x', 'dst_host_srv_serror_rate_x', 'protocol_type_icmp', 'service_ecr_i', 'flag_S0_x', 'flag_SF_x']\n",
      "Features selected for Probe: ['src_bytes', 'dst_bytes', 'dst_host_count_x', 'dst_host_srv_count_x', 'dst_host_same_srv_rate_x', 'dst_host_diff_srv_rate', 'dst_host_same_src_port_rate_x', 'dst_host_srv_diff_host_rate_x', 'dst_host_rerror_rate', 'dst_host_srv_rerror_rate', 'protocol_type_icmp', 'protocol_type_tcp', 'service_eco_i', 'service_http_x', 'service_private_x']\n",
      "Features selected for R2L: ['duration_x', 'src_bytes', 'dst_bytes', 'hot', 'logged_in_x', 'is_guest_login', 'srv_count', 'dst_host_count_x', 'dst_host_srv_count_x', 'dst_host_same_srv_rate_x', 'dst_host_diff_srv_rate', 'dst_host_same_src_port_rate_x', 'dst_host_srv_diff_host_rate_x', 'service_ftp', 'service_ftp_data_x']\n",
      "Features selected for U2R: ['duration_x', 'src_bytes', 'dst_bytes', 'urgent_x', 'hot', 'num_compromised', 'root_shell', 'num_root', 'dst_host_count_x', 'dst_host_srv_count_x', 'dst_host_same_srv_rate_x', 'dst_host_diff_srv_rate', 'dst_host_same_src_port_rate_x', 'service_ftp_data_x', 'index_col']\n"
     ]
    }
   ],
   "source": [
    "print('Features selected for DoS:',rfecolname_DoS)\n",
    "print('Features selected for Probe:',rfecolname_Probe)\n",
    "print('Features selected for R2L:',rfecolname_R2L)\n",
    "print('Features selected for U2R:',rfecolname_U2R)"
   ]
  },
  {
   "cell_type": "code",
   "execution_count": 27,
   "metadata": {},
   "outputs": [
    {
     "name": "stdout",
     "output_type": "stream",
     "text": [
      "(22683, 15)\n",
      "(15738, 15)\n",
      "(13658, 15)\n",
      "(13460, 15)\n"
     ]
    }
   ],
   "source": [
    "print(X_rfeDoS.shape)\n",
    "print(X_rfeProbe.shape)\n",
    "print(X_rfeR2L.shape)\n",
    "print(X_rfeU2R.shape)"
   ]
  },
  {
   "cell_type": "code",
   "execution_count": 28,
   "metadata": {},
   "outputs": [
    {
     "name": "stdout",
     "output_type": "stream",
     "text": [
      "(17170, 15)\n",
      "(12131, 15)\n"
     ]
    }
   ],
   "source": [
    "# reduce test dataset to 15 features, use only features described in rfecolname_DoS etc.\n",
    "X_DoS_test2=X_DoS_test[:,rfecolindex_DoS]\n",
    "X_Probe_test2=X_Probe_test[:,rfecolindex_Probe]\n",
    "X_R2L_test2=X_R2L_test[:,rfecolindex_R2L]\n",
    "X_U2R_test2=X_U2R_test[:,rfecolindex_U2R]\n",
    "print(X_DoS_test2.shape)\n",
    "print(X_Probe_test2.shape)"
   ]
  },
  {
   "cell_type": "markdown",
   "metadata": {},
   "source": [
    "Algorithms after RFE"
   ]
  },
  {
   "cell_type": "code",
   "execution_count": 32,
   "metadata": {},
   "outputs": [],
   "source": [
    "from collections import Counter\n",
    "from sklearn.model_selection import train_test_split\n",
    "from sklearn.feature_extraction.text import TfidfVectorizer, CountVectorizer\n",
    "from sklearn.naive_bayes import CategoricalNB\n",
    "from sklearn.naive_bayes import MultinomialNB\n",
    "from sklearn.naive_bayes import GaussianNB\n",
    "from sklearn.naive_bayes import BernoulliNB\n",
    "from sklearn.svm import SVC\n",
    "from sklearn.neural_network import MLPClassifier\n",
    "from sklearn.ensemble import AdaBoostClassifier\n",
    "from sklearn.tree import DecisionTreeClassifier\n",
    "from sklearn.ensemble import RandomForestClassifier\n",
    "from sklearn.ensemble import GradientBoostingClassifier\n",
    "from sklearn.linear_model import LogisticRegression\n",
    "from sklearn.model_selection import GridSearchCV\n",
    "from sklearn.metrics import f1_score, confusion_matrix\n",
    "from sklearn.mixture import GaussianMixture\n",
    "\n",
    "clfs = {\n",
    "    'gnb': GaussianNB(),\n",
    "    'gmm': GaussianMixture(),\n",
    "#Not     'mnb': MultinomialNB(),\n",
    "#Not     'cnb': CategoricalNB(),\n",
    "#    'svm1': SVC(kernel='linear'),\n",
    "#    'svm2': SVC(kernel='rbf'),\n",
    "#     'svm3': SVC(kernel='sigmoid'),\n",
    "#     'mlp1': MLPClassifier(),\n",
    "#     'mlp2': MLPClassifier(hidden_layer_sizes=[100, 100]),\n",
    "#    'ada': AdaBoostClassifier(),\n",
    "#     'dtc': DecisionTreeClassifier(),\n",
    "#     'rfc': RandomForestClassifier(),\n",
    "#     'gbc': GradientBoostingClassifier(),\n",
    "#     'lr': LogisticRegression()\n",
    "}"
   ]
  },
  {
   "cell_type": "code",
   "execution_count": 43,
   "metadata": {},
   "outputs": [],
   "source": [
    "from sklearn.metrics import classification_report, confusion_matrix, roc_curve, roc_auc_score\n",
    "def report(model_name, y_test, y_pred, le=None):\n",
    "    \"\"\"report function evaluates the quality of the output of a classifier on this data set.\n",
    "    We can get the value of Precision, Recall,, F1-Score, Support, accuracy by Lables \n",
    "    And it can get Multiclass AUC score multiclass using roc_auc_score_multiclass function\n",
    "    Additionally, it draws Bar graph about comparison between labels in each metrics (precision, recall, f1-score, AUC)\n",
    "    All are saved as a file\n",
    "    \n",
    "    :param model_name: model name used in this project (e.g. \"SVM\")\n",
    "    :param y_test: test label    \n",
    "    :param y_pred: test label    \n",
    "    :param le: None or Label encoder    \n",
    "    :return: _confusion_matrix, _classification_report, _auc_dict, _classification_report_dict\n",
    "    \"\"\"\n",
    "    \n",
    "    # Estimation: Confusion Matrix & classification-report \n",
    "    _confusion_matrix = confusion_matrix(y_test, y_pred)\n",
    "    _classification_report = classification_report(y_test, y_pred, output_dict=False)\n",
    "#     print(_confusion_matrix)\n",
    "    print(_classification_report)\n",
    "    return _confusion_matrix, _classification_report\n",
    "    "
   ]
  },
  {
   "cell_type": "code",
   "execution_count": 44,
   "metadata": {},
   "outputs": [
    {
     "name": "stdout",
     "output_type": "stream",
     "text": [
      "gnb\n",
      "              precision    recall  f1-score   support\n",
      "\n",
      "           0       1.00      0.00      0.00      9710\n",
      "           1       0.43      1.00      0.61      7460\n",
      "\n",
      "    accuracy                           0.44     17170\n",
      "   macro avg       0.72      0.50      0.30     17170\n",
      "weighted avg       0.75      0.44      0.26     17170\n",
      "\n",
      "gmm\n",
      "              precision    recall  f1-score   support\n",
      "\n",
      "           0       0.57      1.00      0.72      9710\n",
      "           1       0.00      0.00      0.00      7460\n",
      "\n",
      "    accuracy                           0.57     17170\n",
      "   macro avg       0.28      0.50      0.36     17170\n",
      "weighted avg       0.32      0.57      0.41     17170\n",
      "\n"
     ]
    },
    {
     "name": "stderr",
     "output_type": "stream",
     "text": [
      "C:\\ProgramData\\Anaconda3\\lib\\site-packages\\sklearn\\metrics\\_classification.py:1245: UndefinedMetricWarning: Precision and F-score are ill-defined and being set to 0.0 in labels with no predicted samples. Use `zero_division` parameter to control this behavior.\n",
      "  _warn_prf(average, modifier, msg_start, len(result))\n",
      "C:\\ProgramData\\Anaconda3\\lib\\site-packages\\sklearn\\metrics\\_classification.py:1245: UndefinedMetricWarning: Precision and F-score are ill-defined and being set to 0.0 in labels with no predicted samples. Use `zero_division` parameter to control this behavior.\n",
      "  _warn_prf(average, modifier, msg_start, len(result))\n",
      "C:\\ProgramData\\Anaconda3\\lib\\site-packages\\sklearn\\metrics\\_classification.py:1245: UndefinedMetricWarning: Precision and F-score are ill-defined and being set to 0.0 in labels with no predicted samples. Use `zero_division` parameter to control this behavior.\n",
      "  _warn_prf(average, modifier, msg_start, len(result))\n"
     ]
    }
   ],
   "source": [
    "f1_scores = dict()\n",
    "for clf_name in clfs:\n",
    "    print(clf_name)\n",
    "    clf = clfs[clf_name]\n",
    "    clf.fit(X_rfeDoS, Y_DoS)\n",
    "    y_pred = clf.predict(X_DoS_test2)\n",
    "    f1_scores[clf_name] = f1_score(y_pred, Y_DoS_test,average=\"weighted\")\n",
    "    cm, cr = report(clf_name, Y_DoS_test, y_pred)"
   ]
  },
  {
   "cell_type": "code",
   "execution_count": 45,
   "metadata": {},
   "outputs": [
    {
     "data": {
      "text/plain": [
       "{'gnb': 0.6056700899372908, 'gmm': 0.722470238095238}"
      ]
     },
     "execution_count": 45,
     "metadata": {},
     "output_type": "execute_result"
    }
   ],
   "source": [
    "f1_scores"
   ]
  },
  {
   "cell_type": "code",
   "execution_count": 46,
   "metadata": {},
   "outputs": [
    {
     "data": {
      "text/plain": [
       "{'gnb': 0.43500291205591146, 'gmm': -18.650192257025846}"
      ]
     },
     "execution_count": 46,
     "metadata": {},
     "output_type": "execute_result"
    }
   ],
   "source": [
    "accuracy={}\n",
    "for i in clfs:\n",
    "    accuracy[i] = clfs[i].score(X_DoS_test2, Y_DoS_test)\n",
    "accuracy"
   ]
  },
  {
   "cell_type": "code",
   "execution_count": 47,
   "metadata": {},
   "outputs": [
    {
     "name": "stdout",
     "output_type": "stream",
     "text": [
      "gnb\n",
      "              precision    recall  f1-score   support\n",
      "\n",
      "           0       0.93      0.90      0.91      9710\n",
      "           2       0.63      0.71      0.67      2421\n",
      "\n",
      "    accuracy                           0.86     12131\n",
      "   macro avg       0.78      0.80      0.79     12131\n",
      "weighted avg       0.87      0.86      0.86     12131\n",
      "\n",
      "gmm\n",
      "              precision    recall  f1-score   support\n",
      "\n",
      "           0       0.80      1.00      0.89      9710\n",
      "           2       0.00      0.00      0.00      2421\n",
      "\n",
      "    accuracy                           0.80     12131\n",
      "   macro avg       0.40      0.50      0.44     12131\n",
      "weighted avg       0.64      0.80      0.71     12131\n",
      "\n"
     ]
    },
    {
     "name": "stderr",
     "output_type": "stream",
     "text": [
      "C:\\ProgramData\\Anaconda3\\lib\\site-packages\\sklearn\\metrics\\_classification.py:1245: UndefinedMetricWarning: Precision and F-score are ill-defined and being set to 0.0 in labels with no predicted samples. Use `zero_division` parameter to control this behavior.\n",
      "  _warn_prf(average, modifier, msg_start, len(result))\n",
      "C:\\ProgramData\\Anaconda3\\lib\\site-packages\\sklearn\\metrics\\_classification.py:1245: UndefinedMetricWarning: Precision and F-score are ill-defined and being set to 0.0 in labels with no predicted samples. Use `zero_division` parameter to control this behavior.\n",
      "  _warn_prf(average, modifier, msg_start, len(result))\n",
      "C:\\ProgramData\\Anaconda3\\lib\\site-packages\\sklearn\\metrics\\_classification.py:1245: UndefinedMetricWarning: Precision and F-score are ill-defined and being set to 0.0 in labels with no predicted samples. Use `zero_division` parameter to control this behavior.\n",
      "  _warn_prf(average, modifier, msg_start, len(result))\n"
     ]
    }
   ],
   "source": [
    "f1_scores = dict()\n",
    "for clf_name in clfs:\n",
    "    print(clf_name)\n",
    "    clf = clfs[clf_name]\n",
    "    clf.fit(X_rfeProbe, Y_Probe)\n",
    "    y_pred = clf.predict(X_Probe_test2)\n",
    "    f1_scores[clf_name] = f1_score(y_pred, Y_Probe_test,average=\"weighted\")\n",
    "    cm, cr = report(clf_name, Y_Probe_test, y_pred)"
   ]
  },
  {
   "cell_type": "code",
   "execution_count": 48,
   "metadata": {},
   "outputs": [
    {
     "data": {
      "text/plain": [
       "{'gnb': 0.857209187542834, 'gmm': 0.8891534270408864}"
      ]
     },
     "execution_count": 48,
     "metadata": {},
     "output_type": "execute_result"
    }
   ],
   "source": [
    "f1_scores"
   ]
  },
  {
   "cell_type": "code",
   "execution_count": 49,
   "metadata": {},
   "outputs": [
    {
     "name": "stdout",
     "output_type": "stream",
     "text": [
      "gnb\n",
      "              precision    recall  f1-score   support\n",
      "\n",
      "           0       0.82      0.99      0.90      9710\n",
      "           3       0.88      0.28      0.42      2885\n",
      "\n",
      "    accuracy                           0.83     12595\n",
      "   macro avg       0.85      0.63      0.66     12595\n",
      "weighted avg       0.83      0.83      0.79     12595\n",
      "\n",
      "gmm\n",
      "              precision    recall  f1-score   support\n",
      "\n",
      "           0       0.77      1.00      0.87      9710\n",
      "           3       0.00      0.00      0.00      2885\n",
      "\n",
      "    accuracy                           0.77     12595\n",
      "   macro avg       0.39      0.50      0.44     12595\n",
      "weighted avg       0.59      0.77      0.67     12595\n",
      "\n"
     ]
    },
    {
     "name": "stderr",
     "output_type": "stream",
     "text": [
      "C:\\ProgramData\\Anaconda3\\lib\\site-packages\\sklearn\\metrics\\_classification.py:1245: UndefinedMetricWarning: Precision and F-score are ill-defined and being set to 0.0 in labels with no predicted samples. Use `zero_division` parameter to control this behavior.\n",
      "  _warn_prf(average, modifier, msg_start, len(result))\n",
      "C:\\ProgramData\\Anaconda3\\lib\\site-packages\\sklearn\\metrics\\_classification.py:1245: UndefinedMetricWarning: Precision and F-score are ill-defined and being set to 0.0 in labels with no predicted samples. Use `zero_division` parameter to control this behavior.\n",
      "  _warn_prf(average, modifier, msg_start, len(result))\n",
      "C:\\ProgramData\\Anaconda3\\lib\\site-packages\\sklearn\\metrics\\_classification.py:1245: UndefinedMetricWarning: Precision and F-score are ill-defined and being set to 0.0 in labels with no predicted samples. Use `zero_division` parameter to control this behavior.\n",
      "  _warn_prf(average, modifier, msg_start, len(result))\n"
     ]
    }
   ],
   "source": [
    "f1_scores = dict()\n",
    "for clf_name in clfs:\n",
    "    print(clf_name)\n",
    "    clf = clfs[clf_name]\n",
    "    clf.fit(X_rfeR2L, Y_R2L)\n",
    "    y_pred = clf.predict(X_R2L_test2)\n",
    "    f1_scores[clf_name] = f1_score(y_pred, Y_R2L_test,average=\"weighted\")\n",
    "    cm, cr = report(clf_name, Y_R2L_test, y_pred)"
   ]
  },
  {
   "cell_type": "code",
   "execution_count": 50,
   "metadata": {},
   "outputs": [
    {
     "data": {
      "text/plain": [
       "{'gnb': 0.8627485258705142, 'gmm': 0.8706568034073079}"
      ]
     },
     "execution_count": 50,
     "metadata": {},
     "output_type": "execute_result"
    }
   ],
   "source": [
    "f1_scores"
   ]
  },
  {
   "cell_type": "code",
   "execution_count": 51,
   "metadata": {},
   "outputs": [
    {
     "name": "stdout",
     "output_type": "stream",
     "text": [
      "gnb\n",
      "              precision    recall  f1-score   support\n",
      "\n",
      "           0       1.00      0.00      0.00      9710\n",
      "           4       0.01      1.00      0.01        67\n",
      "\n",
      "    accuracy                           0.01      9777\n",
      "   macro avg       0.50      0.50      0.01      9777\n",
      "weighted avg       0.99      0.01      0.00      9777\n",
      "\n",
      "gmm\n",
      "              precision    recall  f1-score   support\n",
      "\n",
      "           0       0.99      1.00      1.00      9710\n",
      "           4       0.00      0.00      0.00        67\n",
      "\n",
      "    accuracy                           0.99      9777\n",
      "   macro avg       0.50      0.50      0.50      9777\n",
      "weighted avg       0.99      0.99      0.99      9777\n",
      "\n"
     ]
    },
    {
     "name": "stderr",
     "output_type": "stream",
     "text": [
      "C:\\ProgramData\\Anaconda3\\lib\\site-packages\\sklearn\\metrics\\_classification.py:1245: UndefinedMetricWarning: Precision and F-score are ill-defined and being set to 0.0 in labels with no predicted samples. Use `zero_division` parameter to control this behavior.\n",
      "  _warn_prf(average, modifier, msg_start, len(result))\n",
      "C:\\ProgramData\\Anaconda3\\lib\\site-packages\\sklearn\\metrics\\_classification.py:1245: UndefinedMetricWarning: Precision and F-score are ill-defined and being set to 0.0 in labels with no predicted samples. Use `zero_division` parameter to control this behavior.\n",
      "  _warn_prf(average, modifier, msg_start, len(result))\n",
      "C:\\ProgramData\\Anaconda3\\lib\\site-packages\\sklearn\\metrics\\_classification.py:1245: UndefinedMetricWarning: Precision and F-score are ill-defined and being set to 0.0 in labels with no predicted samples. Use `zero_division` parameter to control this behavior.\n",
      "  _warn_prf(average, modifier, msg_start, len(result))\n"
     ]
    }
   ],
   "source": [
    "f1_scores = dict()\n",
    "for clf_name in clfs:\n",
    "    print(clf_name)\n",
    "    clf = clfs[clf_name]\n",
    "    clf.fit(X_rfeU2R, Y_U2R)\n",
    "    y_pred = clf.predict(X_U2R_test2)\n",
    "    f1_scores[clf_name] = f1_score(y_pred, Y_U2R_test,average=\"weighted\")\n",
    "    cm, cr = report(clf_name, Y_U2R_test, y_pred)"
   ]
  },
  {
   "cell_type": "code",
   "execution_count": 52,
   "metadata": {},
   "outputs": [
    {
     "data": {
      "text/plain": [
       "{'gnb': 0.013612651717352148, 'gmm': 0.9965618104377277}"
      ]
     },
     "execution_count": 52,
     "metadata": {},
     "output_type": "execute_result"
    }
   ],
   "source": [
    "f1_scores"
   ]
  },
  {
   "cell_type": "code",
   "execution_count": null,
   "metadata": {},
   "outputs": [],
   "source": []
  }
 ],
 "metadata": {
  "kernelspec": {
   "display_name": "Python 3",
   "language": "python",
   "name": "python3"
  },
  "language_info": {
   "codemirror_mode": {
    "name": "ipython",
    "version": 3
   },
   "file_extension": ".py",
   "mimetype": "text/x-python",
   "name": "python",
   "nbconvert_exporter": "python",
   "pygments_lexer": "ipython3",
   "version": "3.8.11"
  }
 },
 "nbformat": 4,
 "nbformat_minor": 1
}